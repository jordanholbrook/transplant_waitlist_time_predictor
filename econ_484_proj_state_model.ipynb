{
 "cells": [
  {
   "cell_type": "code",
   "execution_count": 103,
   "metadata": {},
   "outputs": [],
   "source": [
    "import pandas as pd\n",
    "import numpy as np\n",
    "import seaborn as sns\n",
    "import statsmodels.api as sm\n",
    "import statsmodels.formula.api as smf\n",
    "from pandas.plotting import scatter_matrix\n",
    "from matplotlib import pyplot as plt\n",
    "from sklearn import tree\n",
    "#import pydotplus\n",
    "import collections\n",
    "from IPython.display import Image  \n",
    "#import pydotplus\n",
    "from sklearn.tree import export_graphviz"
   ]
  },
  {
   "cell_type": "code",
   "execution_count": 104,
   "metadata": {},
   "outputs": [],
   "source": [
    "import copy"
   ]
  },
  {
   "cell_type": "code",
   "execution_count": 105,
   "metadata": {},
   "outputs": [],
   "source": [
    "%matplotlib inline\n",
    "from sklearn.model_selection import train_test_split\n",
    "from sklearn.ensemble import RandomForestRegressor"
   ]
  },
  {
   "cell_type": "code",
   "execution_count": 118,
   "metadata": {},
   "outputs": [],
   "source": [
    "df = pd.read_stata(\"Econ_484_data_final.dta\")"
   ]
  },
  {
   "cell_type": "code",
   "execution_count": 107,
   "metadata": {},
   "outputs": [],
   "source": [
    "# df.isin([\"''\"]).sum(axis=1).sum()"
   ]
  },
  {
   "cell_type": "code",
   "execution_count": 108,
   "metadata": {},
   "outputs": [],
   "source": [
    "df = df.drop(\"DAYSWAIT_CHRON\", axis=1)"
   ]
  },
  {
   "cell_type": "code",
   "execution_count": 109,
   "metadata": {},
   "outputs": [],
   "source": [
    "df = df.dropna(axis=0, how='any')"
   ]
  },
  {
   "cell_type": "code",
   "execution_count": 110,
   "metadata": {},
   "outputs": [],
   "source": [
    "df['year'] = pd.DatetimeIndex(df[\"TX_DATE\"]).year\n",
    "df['month'] = pd.DatetimeIndex(df[\"TX_DATE\"]).month\n",
    "df = df.drop(\"TX_DATE\", axis=1)"
   ]
  },
  {
   "cell_type": "markdown",
   "metadata": {},
   "source": [
    "### Making dummy variables"
   ]
  },
  {
   "cell_type": "code",
   "execution_count": 111,
   "metadata": {},
   "outputs": [],
   "source": [
    "dummy_columns = ['gender', 'abo', 'EXH_PERIT_ACCESS', 'EXH_VASC_ACCESS', 'PREV_TX', 'PREV_KI_TX',\n",
    "                 'MALIG_TRR', 'txkid', 'ABO_DON', 'DON_TY', 'GENDER_DON',\n",
    "                 'HOME_STATE_DON', 'ABO_MAT', 'GRF_STAT_KI', 'DWFG_KI', 'PREV_TX_ANY', 'PX_STAT',\n",
    "                 'SHARE_TY', 'AGE_GROUP', 'malig', 'LT_ONE_WEEK_DON', 'RECOV_OUT_US', 'year', 'month',\n",
    "                 'PERM_STATE']\n",
    "funky_columns = ['TX_PROCEDUR_TY_KI']"
   ]
  },
  {
   "cell_type": "code",
   "execution_count": 112,
   "metadata": {},
   "outputs": [],
   "source": [
    "df_non_dummy = df.drop(dummy_columns, axis=1)\n",
    "#df_non_dummy"
   ]
  },
  {
   "cell_type": "code",
   "execution_count": 113,
   "metadata": {},
   "outputs": [],
   "source": [
    "df_dummified = pd.get_dummies(df[dummy_columns])\n"
   ]
  },
  {
   "cell_type": "code",
   "execution_count": 114,
   "metadata": {
    "scrolled": true
   },
   "outputs": [],
   "source": [
    "df = df_non_dummy.merge(df_dummified, left_index=True, right_index=True)\n"
   ]
  },
  {
   "cell_type": "code",
   "execution_count": 119,
   "metadata": {
    "scrolled": true
   },
   "outputs": [
    {
     "data": {
      "text/plain": [
       "PERM_STATE\n",
       "AS     113.500000\n",
       "UT     396.112258\n",
       "OR     406.574068\n",
       "KY     408.346516\n",
       "NE     413.064571\n",
       "AR     434.404139\n",
       "ME     439.108321\n",
       "ZZ     439.984223\n",
       "ID     440.481081\n",
       "KS     442.715304\n",
       "IA     448.285899\n",
       "NV     455.524530\n",
       "FL     475.629359\n",
       "WV     476.939924\n",
       "VT     479.534815\n",
       "NA     486.886744\n",
       "OK     495.519208\n",
       "ND     501.517791\n",
       "NH     502.474780\n",
       "WI     509.442720\n",
       "SD     530.993789\n",
       "MO     534.463941\n",
       "IN     540.128632\n",
       "MT     550.881002\n",
       "SC     551.050478\n",
       "OH     553.236842\n",
       "TX     560.038818\n",
       "AZ     561.054896\n",
       "RI     580.219005\n",
       "MN     595.614792\n",
       "MD     601.100217\n",
       "TN     605.647220\n",
       "PA     610.655378\n",
       "GA     616.430043\n",
       "MS     618.979475\n",
       "WY     624.157778\n",
       "AK     630.578411\n",
       "PR     631.389474\n",
       "WA     633.527757\n",
       "LA     635.195573\n",
       "MI     636.849154\n",
       "IL     636.974154\n",
       "NM     640.207407\n",
       "CO     644.463526\n",
       "GU     648.111111\n",
       "NJ     659.606037\n",
       "VA     659.966429\n",
       "DC     683.127622\n",
       "CT     691.657632\n",
       "MA     694.375915\n",
       "DE     695.335235\n",
       "NC     708.891229\n",
       "NY     712.433919\n",
       "VI     714.686869\n",
       "AL     756.400739\n",
       "CA     803.601410\n",
       "       811.421947\n",
       "HI     876.656414\n",
       "MP    1376.000000\n",
       "Name: DAYSWAIT_CHRON_KI, dtype: float64"
      ]
     },
     "execution_count": 119,
     "metadata": {},
     "output_type": "execute_result"
    }
   ],
   "source": [
    "df.groupby('PERM_STATE')['DAYSWAIT_CHRON_KI'].mean().sort_values(ascending=True)"
   ]
  },
  {
   "cell_type": "code",
   "execution_count": 38,
   "metadata": {},
   "outputs": [
    {
     "data": {
      "text/plain": [
       "region\n",
       "4     320.0\n",
       "7     338.0\n",
       "8     343.0\n",
       "3     346.0\n",
       "10    358.0\n",
       "11    388.0\n",
       "2     392.0\n",
       "1     410.0\n",
       "6     413.0\n",
       "9     430.0\n",
       "5     437.0\n",
       "Name: DAYSWAIT_CHRON_KI, dtype: float64"
      ]
     },
     "execution_count": 38,
     "metadata": {},
     "output_type": "execute_result"
    }
   ],
   "source": [
    "df.groupby('region')['DAYSWAIT_CHRON_KI'].median().sort_values(ascending=True)"
   ]
  },
  {
   "cell_type": "code",
   "execution_count": 44,
   "metadata": {},
   "outputs": [],
   "source": [
    "df['quint']=df.groupby('PERM_STATE')['DAYSWAIT_CHRON_KI'].transform(pd.qcut,5,labels=False)\n"
   ]
  },
  {
   "cell_type": "code",
   "execution_count": 50,
   "metadata": {
    "scrolled": true
   },
   "outputs": [
    {
     "data": {
      "text/html": [
       "<div>\n",
       "<style scoped>\n",
       "    .dataframe tbody tr th:only-of-type {\n",
       "        vertical-align: middle;\n",
       "    }\n",
       "\n",
       "    .dataframe tbody tr th {\n",
       "        vertical-align: top;\n",
       "    }\n",
       "\n",
       "    .dataframe thead th {\n",
       "        text-align: right;\n",
       "    }\n",
       "</style>\n",
       "<table border=\"1\" class=\"dataframe\">\n",
       "  <thead>\n",
       "    <tr style=\"text-align: right;\">\n",
       "      <th>quint</th>\n",
       "      <th>0.0</th>\n",
       "      <th>1.0</th>\n",
       "      <th>2.0</th>\n",
       "      <th>3.0</th>\n",
       "      <th>4.0</th>\n",
       "    </tr>\n",
       "  </thead>\n",
       "  <tbody>\n",
       "    <tr>\n",
       "      <th>count</th>\n",
       "      <td>59.000000</td>\n",
       "      <td>57.000000</td>\n",
       "      <td>58.000000</td>\n",
       "      <td>57.000000</td>\n",
       "      <td>59.000000</td>\n",
       "    </tr>\n",
       "    <tr>\n",
       "      <th>mean</th>\n",
       "      <td>59.135593</td>\n",
       "      <td>171.745614</td>\n",
       "      <td>389.844828</td>\n",
       "      <td>721.421053</td>\n",
       "      <td>1402.822034</td>\n",
       "    </tr>\n",
       "    <tr>\n",
       "      <th>std</th>\n",
       "      <td>87.225719</td>\n",
       "      <td>39.329324</td>\n",
       "      <td>139.510146</td>\n",
       "      <td>157.125740</td>\n",
       "      <td>361.966084</td>\n",
       "    </tr>\n",
       "    <tr>\n",
       "      <th>min</th>\n",
       "      <td>3.000000</td>\n",
       "      <td>54.000000</td>\n",
       "      <td>221.000000</td>\n",
       "      <td>455.000000</td>\n",
       "      <td>134.000000</td>\n",
       "    </tr>\n",
       "    <tr>\n",
       "      <th>25%</th>\n",
       "      <td>42.000000</td>\n",
       "      <td>146.000000</td>\n",
       "      <td>322.125000</td>\n",
       "      <td>589.000000</td>\n",
       "      <td>1146.750000</td>\n",
       "    </tr>\n",
       "    <tr>\n",
       "      <th>50%</th>\n",
       "      <td>48.000000</td>\n",
       "      <td>173.000000</td>\n",
       "      <td>378.750000</td>\n",
       "      <td>734.000000</td>\n",
       "      <td>1413.000000</td>\n",
       "    </tr>\n",
       "    <tr>\n",
       "      <th>75%</th>\n",
       "      <td>55.000000</td>\n",
       "      <td>189.000000</td>\n",
       "      <td>433.000000</td>\n",
       "      <td>846.000000</td>\n",
       "      <td>1595.500000</td>\n",
       "    </tr>\n",
       "    <tr>\n",
       "      <th>max</th>\n",
       "      <td>709.000000</td>\n",
       "      <td>301.000000</td>\n",
       "      <td>1234.000000</td>\n",
       "      <td>1174.500000</td>\n",
       "      <td>2185.000000</td>\n",
       "    </tr>\n",
       "  </tbody>\n",
       "</table>\n",
       "</div>"
      ],
      "text/plain": [
       "quint         0.0         1.0          2.0          3.0          4.0\n",
       "count   59.000000   57.000000    58.000000    57.000000    59.000000\n",
       "mean    59.135593  171.745614   389.844828   721.421053  1402.822034\n",
       "std     87.225719   39.329324   139.510146   157.125740   361.966084\n",
       "min      3.000000   54.000000   221.000000   455.000000   134.000000\n",
       "25%     42.000000  146.000000   322.125000   589.000000  1146.750000\n",
       "50%     48.000000  173.000000   378.750000   734.000000  1413.000000\n",
       "75%     55.000000  189.000000   433.000000   846.000000  1595.500000\n",
       "max    709.000000  301.000000  1234.000000  1174.500000  2185.000000"
      ]
     },
     "execution_count": 50,
     "metadata": {},
     "output_type": "execute_result"
    }
   ],
   "source": [
    "ew = df.pivot_table('DAYSWAIT_CHRON_KI', index='PERM_STATE', columns= 'quint', aggfunc='median')\n",
    "ew.describe()"
   ]
  },
  {
   "cell_type": "code",
   "execution_count": 116,
   "metadata": {},
   "outputs": [],
   "source": [
    "y_variable = 'DAYSWAIT_CHRON_KI'\n",
    "X_variables = list(df.columns[df.columns != y_variable])\n",
    "X = df[X_variables].to_numpy()\n",
    "y = df[y_variable].to_numpy()\n",
    "\n",
    "X_train, X_test, y_train, y_test = train_test_split(X, y)\n",
    "\n",
    "forest = RandomForestRegressor(n_estimators=5)\n",
    "model = forest.fit(X_train, y_train)"
   ]
  },
  {
   "cell_type": "code",
   "execution_count": 117,
   "metadata": {
    "scrolled": true
   },
   "outputs": [
    {
     "data": {
      "text/plain": [
       "0.833438273775404"
      ]
     },
     "execution_count": 117,
     "metadata": {},
     "output_type": "execute_result"
    }
   ],
   "source": [
    "model.score(X_test,y_test)"
   ]
  },
  {
   "cell_type": "code",
   "execution_count": 69,
   "metadata": {},
   "outputs": [
    {
     "data": {
      "text/plain": [
       "0.0    9405\n",
       "2.0    9365\n",
       "4.0    9358\n",
       "3.0    9354\n",
       "1.0    9313\n",
       "Name: quint, dtype: int64"
      ]
     },
     "execution_count": 69,
     "metadata": {},
     "output_type": "execute_result"
    }
   ],
   "source": [
    "df.query('PERM_STATE_CA==1')['quint'].value_counts()\n"
   ]
  },
  {
   "cell_type": "code",
   "execution_count": 81,
   "metadata": {},
   "outputs": [],
   "source": [
    "num_CA_1 = X[226,:].copy().reshape(1,-1)\n",
    "# Has long WL time\n",
    "num_CA_2 = X[77,:].copy().reshape(1,-1)\n",
    "num_CA_3 = X[224,:].copy().reshape(1,-1)"
   ]
  },
  {
   "cell_type": "code",
   "execution_count": 18,
   "metadata": {
    "scrolled": false
   },
   "outputs": [
    {
     "data": {
      "text/html": [
       "<div>\n",
       "<style scoped>\n",
       "    .dataframe tbody tr th:only-of-type {\n",
       "        vertical-align: middle;\n",
       "    }\n",
       "\n",
       "    .dataframe tbody tr th {\n",
       "        vertical-align: top;\n",
       "    }\n",
       "\n",
       "    .dataframe thead th {\n",
       "        text-align: right;\n",
       "    }\n",
       "</style>\n",
       "<table border=\"1\" class=\"dataframe\">\n",
       "  <thead>\n",
       "    <tr style=\"text-align: right;\">\n",
       "      <th></th>\n",
       "      <th>NUM_PREV_TX</th>\n",
       "      <th>A1</th>\n",
       "      <th>A2</th>\n",
       "      <th>B1</th>\n",
       "      <th>B2</th>\n",
       "      <th>DR1</th>\n",
       "      <th>DR2</th>\n",
       "      <th>REM_CD</th>\n",
       "      <th>END_STAT</th>\n",
       "      <th>INIT_AGE</th>\n",
       "      <th>...</th>\n",
       "      <th>PERM_STATE_TX</th>\n",
       "      <th>PERM_STATE_UT</th>\n",
       "      <th>PERM_STATE_VA</th>\n",
       "      <th>PERM_STATE_VI</th>\n",
       "      <th>PERM_STATE_VT</th>\n",
       "      <th>PERM_STATE_WA</th>\n",
       "      <th>PERM_STATE_WI</th>\n",
       "      <th>PERM_STATE_WV</th>\n",
       "      <th>PERM_STATE_WY</th>\n",
       "      <th>PERM_STATE_ZZ</th>\n",
       "    </tr>\n",
       "  </thead>\n",
       "  <tbody>\n",
       "    <tr>\n",
       "      <th>0</th>\n",
       "      <td>0.0</td>\n",
       "      <td>11.0</td>\n",
       "      <td>28.0</td>\n",
       "      <td>8.0</td>\n",
       "      <td>44.0</td>\n",
       "      <td>3.0</td>\n",
       "      <td>4.0</td>\n",
       "      <td>4.0</td>\n",
       "      <td>4010.0</td>\n",
       "      <td>43.0</td>\n",
       "      <td>...</td>\n",
       "      <td>1.0</td>\n",
       "      <td>0.0</td>\n",
       "      <td>0.0</td>\n",
       "      <td>0.0</td>\n",
       "      <td>0.0</td>\n",
       "      <td>0.0</td>\n",
       "      <td>0.0</td>\n",
       "      <td>0.0</td>\n",
       "      <td>0.0</td>\n",
       "      <td>0.0</td>\n",
       "    </tr>\n",
       "  </tbody>\n",
       "</table>\n",
       "<p>1 rows × 230 columns</p>\n",
       "</div>"
      ],
      "text/plain": [
       "   NUM_PREV_TX    A1    A2   B1    B2  DR1  DR2  REM_CD  END_STAT  INIT_AGE  \\\n",
       "0          0.0  11.0  28.0  8.0  44.0  3.0  4.0     4.0    4010.0      43.0   \n",
       "\n",
       "   ...  PERM_STATE_TX  PERM_STATE_UT  PERM_STATE_VA  PERM_STATE_VI  \\\n",
       "0  ...            1.0            0.0            0.0            0.0   \n",
       "\n",
       "   PERM_STATE_VT  PERM_STATE_WA  PERM_STATE_WI  PERM_STATE_WV  PERM_STATE_WY  \\\n",
       "0            0.0            0.0            0.0            0.0            0.0   \n",
       "\n",
       "   PERM_STATE_ZZ  \n",
       "0            0.0  \n",
       "\n",
       "[1 rows x 230 columns]"
      ]
     },
     "execution_count": 18,
     "metadata": {},
     "output_type": "execute_result"
    }
   ],
   "source": [
    "num_21  = pd.DataFrame(num_21, columns = df[X_variables].columns)\n",
    "num_21"
   ]
  },
  {
   "cell_type": "code",
   "execution_count": 90,
   "metadata": {},
   "outputs": [
    {
     "data": {
      "text/plain": [
       "array([1810.])"
      ]
     },
     "execution_count": 90,
     "metadata": {},
     "output_type": "execute_result"
    }
   ],
   "source": [
    "model.predict(num_CA_1)\n",
    "\n"
   ]
  },
  {
   "cell_type": "code",
   "execution_count": 91,
   "metadata": {},
   "outputs": [
    {
     "data": {
      "text/plain": [
       "array([68.4])"
      ]
     },
     "execution_count": 91,
     "metadata": {},
     "output_type": "execute_result"
    }
   ],
   "source": [
    "model.predict(num_CA_2)"
   ]
  },
  {
   "cell_type": "code",
   "execution_count": 92,
   "metadata": {},
   "outputs": [
    {
     "data": {
      "text/plain": [
       "array([890.8])"
      ]
     },
     "execution_count": 92,
     "metadata": {},
     "output_type": "execute_result"
    }
   ],
   "source": [
    "model.predict(num_CA_3)"
   ]
  },
  {
   "cell_type": "code",
   "execution_count": 95,
   "metadata": {
    "scrolled": true
   },
   "outputs": [
    {
     "name": "stdout",
     "output_type": "stream",
     "text": [
      "[666.2]\n",
      "[978.8]\n",
      "[622.2]\n",
      "[666.2]\n",
      "[554.]\n",
      "[890.8]\n",
      "[723.4]\n",
      "[666.2]\n",
      "[760.8]\n",
      "[666.2]\n",
      "[486.4]\n",
      "[833.2]\n",
      "[666.2]\n",
      "[1246.2]\n",
      "[532.8]\n",
      "[452.4]\n",
      "[718.2]\n",
      "[666.2]\n",
      "[578.4]\n",
      "[482.6]\n",
      "[666.2]\n",
      "[778.]\n",
      "[733.6]\n",
      "[666.2]\n",
      "[826.2]\n",
      "[727.8]\n",
      "[666.2]\n",
      "[666.2]\n",
      "[666.2]\n",
      "[703.6]\n",
      "[641.2]\n",
      "[917.6]\n",
      "[666.2]\n",
      "[571.4]\n",
      "[666.2]\n",
      "[853.2]\n",
      "[667.]\n",
      "[513.8]\n",
      "[1019.]\n",
      "[666.2]\n",
      "[685.8]\n",
      "[502.6]\n",
      "[666.2]\n",
      "[733.4]\n",
      "[666.2]\n",
      "[666.2]\n",
      "[666.2]\n",
      "[669.2]\n",
      "[666.2]\n",
      "[481.4]\n",
      "[666.2]\n",
      "[666.2]\n",
      "[666.2]\n",
      "[836.2]\n",
      "[733.2]\n",
      "[666.2]\n",
      "[705.4]\n",
      "[546.8]\n"
     ]
    }
   ],
   "source": [
    "\n",
    "#num_21 =  X[21,:172].copy().reshape(1, -1)\n",
    "List = []\n",
    "for i in range(58):\n",
    "    A = np.zeros((58,), dtype=int)\n",
    "    A[i]=1\n",
    "    num_10000 = np.concatenate((X[224,:173].copy(),A), axis = None).reshape(1,-1)\n",
    "    List.append(model.predict(num_10000))\n",
    "    print(model.predict(num_10000))\n",
    "    "
   ]
  },
  {
   "cell_type": "code",
   "execution_count": 86,
   "metadata": {},
   "outputs": [],
   "source": [
    "state_names = ['AK','AL','AR','AS','AZ','CA','CO','CT','DC','DE','FL','GA',\n",
    "               'GU','HI','IA','ID','IL','IN','KS','KY','LA','MA','MD','ME',\n",
    "               'MI','MN','MO','MP','MS','MT','NA','NC','ND','NE','NH','NJ',\n",
    "               'NM','NV','NY','OH','OK','OR','PA','PR','RI','SC','SD','TN',\n",
    "               'TX','UT','VA','VI','VT','WA','WI','WV','WY','ZZ']\n"
   ]
  },
  {
   "cell_type": "code",
   "execution_count": 87,
   "metadata": {
    "scrolled": true
   },
   "outputs": [],
   "source": [
    "# Person 1\n",
    "List = np.asarray(List)\n",
    "#List.reshape(-1,1)\n",
    "\n",
    "wl_times = pd.DataFrame()\n",
    "wl_times['state']= state_names\n",
    "wl_times['226']= List\n"
   ]
  },
  {
   "cell_type": "code",
   "execution_count": 94,
   "metadata": {
    "scrolled": true
   },
   "outputs": [],
   "source": [
    "# Person 2\n",
    "List = np.asarray(List)\n",
    "wl_times['77']=List\n"
   ]
  },
  {
   "cell_type": "code",
   "execution_count": 96,
   "metadata": {},
   "outputs": [],
   "source": [
    "# Person 3\n",
    "List = np.asarray(List)\n",
    "wl_times['224']=List"
   ]
  },
  {
   "cell_type": "code",
   "execution_count": 43,
   "metadata": {},
   "outputs": [],
   "source": [
    "# Person 4\n",
    "List = np.asarray(List)\n",
    "wl_times['173781']=List"
   ]
  },
  {
   "cell_type": "code",
   "execution_count": 45,
   "metadata": {},
   "outputs": [],
   "source": [
    "# Person 5\n",
    "List = np.asarray(List)\n",
    "wl_times['311525']=List"
   ]
  },
  {
   "cell_type": "code",
   "execution_count": 47,
   "metadata": {},
   "outputs": [],
   "source": [
    "# Person 6\n",
    "List = np.asarray(List)\n",
    "wl_times['336194']=List"
   ]
  },
  {
   "cell_type": "code",
   "execution_count": 49,
   "metadata": {},
   "outputs": [],
   "source": [
    "# Person 7\n",
    "List = np.asarray(List)\n",
    "wl_times['298122']=List"
   ]
  },
  {
   "cell_type": "code",
   "execution_count": 51,
   "metadata": {},
   "outputs": [],
   "source": [
    "# Person 8\n",
    "List = np.asarray(List)\n",
    "wl_times['343924']=List"
   ]
  },
  {
   "cell_type": "code",
   "execution_count": 53,
   "metadata": {},
   "outputs": [],
   "source": [
    "# Person 9\n",
    "List = np.asarray(List)\n",
    "wl_times['22757']=List"
   ]
  },
  {
   "cell_type": "code",
   "execution_count": 101,
   "metadata": {},
   "outputs": [
    {
     "data": {
      "text/html": [
       "<div>\n",
       "<style scoped>\n",
       "    .dataframe tbody tr th:only-of-type {\n",
       "        vertical-align: middle;\n",
       "    }\n",
       "\n",
       "    .dataframe tbody tr th {\n",
       "        vertical-align: top;\n",
       "    }\n",
       "\n",
       "    .dataframe thead th {\n",
       "        text-align: right;\n",
       "    }\n",
       "</style>\n",
       "<table border=\"1\" class=\"dataframe\">\n",
       "  <thead>\n",
       "    <tr style=\"text-align: right;\">\n",
       "      <th></th>\n",
       "      <th>state</th>\n",
       "      <th>226</th>\n",
       "      <th>77</th>\n",
       "      <th>224</th>\n",
       "    </tr>\n",
       "  </thead>\n",
       "  <tbody>\n",
       "    <tr>\n",
       "      <th>0</th>\n",
       "      <td>AK</td>\n",
       "      <td>1831.6</td>\n",
       "      <td>56.4</td>\n",
       "      <td>666.2</td>\n",
       "    </tr>\n",
       "    <tr>\n",
       "      <th>1</th>\n",
       "      <td>AL</td>\n",
       "      <td>1831.6</td>\n",
       "      <td>38.0</td>\n",
       "      <td>978.8</td>\n",
       "    </tr>\n",
       "    <tr>\n",
       "      <th>2</th>\n",
       "      <td>AR</td>\n",
       "      <td>1831.6</td>\n",
       "      <td>32.2</td>\n",
       "      <td>622.2</td>\n",
       "    </tr>\n",
       "    <tr>\n",
       "      <th>3</th>\n",
       "      <td>AS</td>\n",
       "      <td>1831.6</td>\n",
       "      <td>27.8</td>\n",
       "      <td>666.2</td>\n",
       "    </tr>\n",
       "    <tr>\n",
       "      <th>4</th>\n",
       "      <td>AZ</td>\n",
       "      <td>1831.6</td>\n",
       "      <td>34.0</td>\n",
       "      <td>554.0</td>\n",
       "    </tr>\n",
       "    <tr>\n",
       "      <th>5</th>\n",
       "      <td>CA</td>\n",
       "      <td>1810.0</td>\n",
       "      <td>68.4</td>\n",
       "      <td>890.8</td>\n",
       "    </tr>\n",
       "    <tr>\n",
       "      <th>6</th>\n",
       "      <td>CO</td>\n",
       "      <td>1831.6</td>\n",
       "      <td>27.8</td>\n",
       "      <td>723.4</td>\n",
       "    </tr>\n",
       "    <tr>\n",
       "      <th>7</th>\n",
       "      <td>CT</td>\n",
       "      <td>1831.6</td>\n",
       "      <td>27.8</td>\n",
       "      <td>666.2</td>\n",
       "    </tr>\n",
       "    <tr>\n",
       "      <th>8</th>\n",
       "      <td>DC</td>\n",
       "      <td>1831.6</td>\n",
       "      <td>27.8</td>\n",
       "      <td>760.8</td>\n",
       "    </tr>\n",
       "    <tr>\n",
       "      <th>9</th>\n",
       "      <td>DE</td>\n",
       "      <td>1831.6</td>\n",
       "      <td>27.8</td>\n",
       "      <td>666.2</td>\n",
       "    </tr>\n",
       "    <tr>\n",
       "      <th>10</th>\n",
       "      <td>FL</td>\n",
       "      <td>1831.6</td>\n",
       "      <td>20.6</td>\n",
       "      <td>486.4</td>\n",
       "    </tr>\n",
       "    <tr>\n",
       "      <th>11</th>\n",
       "      <td>GA</td>\n",
       "      <td>1831.6</td>\n",
       "      <td>27.8</td>\n",
       "      <td>833.2</td>\n",
       "    </tr>\n",
       "    <tr>\n",
       "      <th>12</th>\n",
       "      <td>GU</td>\n",
       "      <td>1831.6</td>\n",
       "      <td>27.8</td>\n",
       "      <td>666.2</td>\n",
       "    </tr>\n",
       "    <tr>\n",
       "      <th>13</th>\n",
       "      <td>HI</td>\n",
       "      <td>1831.6</td>\n",
       "      <td>121.6</td>\n",
       "      <td>1246.2</td>\n",
       "    </tr>\n",
       "    <tr>\n",
       "      <th>14</th>\n",
       "      <td>IA</td>\n",
       "      <td>1831.6</td>\n",
       "      <td>21.4</td>\n",
       "      <td>532.8</td>\n",
       "    </tr>\n",
       "    <tr>\n",
       "      <th>15</th>\n",
       "      <td>ID</td>\n",
       "      <td>1831.6</td>\n",
       "      <td>27.8</td>\n",
       "      <td>452.4</td>\n",
       "    </tr>\n",
       "    <tr>\n",
       "      <th>16</th>\n",
       "      <td>IL</td>\n",
       "      <td>1831.6</td>\n",
       "      <td>42.4</td>\n",
       "      <td>718.2</td>\n",
       "    </tr>\n",
       "    <tr>\n",
       "      <th>17</th>\n",
       "      <td>IN</td>\n",
       "      <td>1831.6</td>\n",
       "      <td>29.6</td>\n",
       "      <td>666.2</td>\n",
       "    </tr>\n",
       "    <tr>\n",
       "      <th>18</th>\n",
       "      <td>KS</td>\n",
       "      <td>1831.6</td>\n",
       "      <td>27.8</td>\n",
       "      <td>578.4</td>\n",
       "    </tr>\n",
       "    <tr>\n",
       "      <th>19</th>\n",
       "      <td>KY</td>\n",
       "      <td>1831.6</td>\n",
       "      <td>28.2</td>\n",
       "      <td>482.6</td>\n",
       "    </tr>\n",
       "    <tr>\n",
       "      <th>20</th>\n",
       "      <td>LA</td>\n",
       "      <td>1831.6</td>\n",
       "      <td>50.4</td>\n",
       "      <td>666.2</td>\n",
       "    </tr>\n",
       "    <tr>\n",
       "      <th>21</th>\n",
       "      <td>MA</td>\n",
       "      <td>1831.6</td>\n",
       "      <td>46.4</td>\n",
       "      <td>778.0</td>\n",
       "    </tr>\n",
       "    <tr>\n",
       "      <th>22</th>\n",
       "      <td>MD</td>\n",
       "      <td>1831.6</td>\n",
       "      <td>27.8</td>\n",
       "      <td>733.6</td>\n",
       "    </tr>\n",
       "    <tr>\n",
       "      <th>23</th>\n",
       "      <td>ME</td>\n",
       "      <td>1831.6</td>\n",
       "      <td>36.2</td>\n",
       "      <td>666.2</td>\n",
       "    </tr>\n",
       "    <tr>\n",
       "      <th>24</th>\n",
       "      <td>MI</td>\n",
       "      <td>1831.6</td>\n",
       "      <td>62.4</td>\n",
       "      <td>826.2</td>\n",
       "    </tr>\n",
       "    <tr>\n",
       "      <th>25</th>\n",
       "      <td>MN</td>\n",
       "      <td>1831.6</td>\n",
       "      <td>27.8</td>\n",
       "      <td>727.8</td>\n",
       "    </tr>\n",
       "    <tr>\n",
       "      <th>26</th>\n",
       "      <td>MO</td>\n",
       "      <td>1831.6</td>\n",
       "      <td>40.4</td>\n",
       "      <td>666.2</td>\n",
       "    </tr>\n",
       "    <tr>\n",
       "      <th>27</th>\n",
       "      <td>MP</td>\n",
       "      <td>1831.6</td>\n",
       "      <td>437.2</td>\n",
       "      <td>666.2</td>\n",
       "    </tr>\n",
       "    <tr>\n",
       "      <th>28</th>\n",
       "      <td>MS</td>\n",
       "      <td>1831.6</td>\n",
       "      <td>46.0</td>\n",
       "      <td>666.2</td>\n",
       "    </tr>\n",
       "    <tr>\n",
       "      <th>29</th>\n",
       "      <td>MT</td>\n",
       "      <td>1831.6</td>\n",
       "      <td>27.8</td>\n",
       "      <td>703.6</td>\n",
       "    </tr>\n",
       "    <tr>\n",
       "      <th>30</th>\n",
       "      <td>NA</td>\n",
       "      <td>1831.6</td>\n",
       "      <td>27.4</td>\n",
       "      <td>641.2</td>\n",
       "    </tr>\n",
       "    <tr>\n",
       "      <th>31</th>\n",
       "      <td>NC</td>\n",
       "      <td>1831.6</td>\n",
       "      <td>27.8</td>\n",
       "      <td>917.6</td>\n",
       "    </tr>\n",
       "    <tr>\n",
       "      <th>32</th>\n",
       "      <td>ND</td>\n",
       "      <td>1831.6</td>\n",
       "      <td>27.8</td>\n",
       "      <td>666.2</td>\n",
       "    </tr>\n",
       "    <tr>\n",
       "      <th>33</th>\n",
       "      <td>NE</td>\n",
       "      <td>1831.6</td>\n",
       "      <td>38.0</td>\n",
       "      <td>571.4</td>\n",
       "    </tr>\n",
       "    <tr>\n",
       "      <th>34</th>\n",
       "      <td>NH</td>\n",
       "      <td>1831.6</td>\n",
       "      <td>46.2</td>\n",
       "      <td>666.2</td>\n",
       "    </tr>\n",
       "    <tr>\n",
       "      <th>35</th>\n",
       "      <td>NJ</td>\n",
       "      <td>1831.6</td>\n",
       "      <td>27.8</td>\n",
       "      <td>853.2</td>\n",
       "    </tr>\n",
       "    <tr>\n",
       "      <th>36</th>\n",
       "      <td>NM</td>\n",
       "      <td>1831.6</td>\n",
       "      <td>75.2</td>\n",
       "      <td>667.0</td>\n",
       "    </tr>\n",
       "    <tr>\n",
       "      <th>37</th>\n",
       "      <td>NV</td>\n",
       "      <td>1831.6</td>\n",
       "      <td>27.8</td>\n",
       "      <td>513.8</td>\n",
       "    </tr>\n",
       "    <tr>\n",
       "      <th>38</th>\n",
       "      <td>NY</td>\n",
       "      <td>1860.0</td>\n",
       "      <td>48.8</td>\n",
       "      <td>1019.0</td>\n",
       "    </tr>\n",
       "    <tr>\n",
       "      <th>39</th>\n",
       "      <td>OH</td>\n",
       "      <td>1831.6</td>\n",
       "      <td>26.8</td>\n",
       "      <td>666.2</td>\n",
       "    </tr>\n",
       "    <tr>\n",
       "      <th>40</th>\n",
       "      <td>OK</td>\n",
       "      <td>1831.6</td>\n",
       "      <td>27.8</td>\n",
       "      <td>685.8</td>\n",
       "    </tr>\n",
       "    <tr>\n",
       "      <th>41</th>\n",
       "      <td>OR</td>\n",
       "      <td>1831.6</td>\n",
       "      <td>32.2</td>\n",
       "      <td>502.6</td>\n",
       "    </tr>\n",
       "    <tr>\n",
       "      <th>42</th>\n",
       "      <td>PA</td>\n",
       "      <td>1831.6</td>\n",
       "      <td>27.8</td>\n",
       "      <td>666.2</td>\n",
       "    </tr>\n",
       "    <tr>\n",
       "      <th>43</th>\n",
       "      <td>PR</td>\n",
       "      <td>1831.6</td>\n",
       "      <td>58.6</td>\n",
       "      <td>733.4</td>\n",
       "    </tr>\n",
       "    <tr>\n",
       "      <th>44</th>\n",
       "      <td>RI</td>\n",
       "      <td>1831.6</td>\n",
       "      <td>49.8</td>\n",
       "      <td>666.2</td>\n",
       "    </tr>\n",
       "    <tr>\n",
       "      <th>45</th>\n",
       "      <td>SC</td>\n",
       "      <td>1831.6</td>\n",
       "      <td>18.4</td>\n",
       "      <td>666.2</td>\n",
       "    </tr>\n",
       "    <tr>\n",
       "      <th>46</th>\n",
       "      <td>SD</td>\n",
       "      <td>1831.6</td>\n",
       "      <td>27.8</td>\n",
       "      <td>666.2</td>\n",
       "    </tr>\n",
       "    <tr>\n",
       "      <th>47</th>\n",
       "      <td>TN</td>\n",
       "      <td>1831.6</td>\n",
       "      <td>27.8</td>\n",
       "      <td>669.2</td>\n",
       "    </tr>\n",
       "    <tr>\n",
       "      <th>48</th>\n",
       "      <td>TX</td>\n",
       "      <td>1831.6</td>\n",
       "      <td>53.6</td>\n",
       "      <td>666.2</td>\n",
       "    </tr>\n",
       "    <tr>\n",
       "      <th>49</th>\n",
       "      <td>UT</td>\n",
       "      <td>1831.6</td>\n",
       "      <td>23.0</td>\n",
       "      <td>481.4</td>\n",
       "    </tr>\n",
       "    <tr>\n",
       "      <th>50</th>\n",
       "      <td>VA</td>\n",
       "      <td>1831.6</td>\n",
       "      <td>27.8</td>\n",
       "      <td>666.2</td>\n",
       "    </tr>\n",
       "    <tr>\n",
       "      <th>51</th>\n",
       "      <td>VI</td>\n",
       "      <td>1831.6</td>\n",
       "      <td>27.8</td>\n",
       "      <td>666.2</td>\n",
       "    </tr>\n",
       "    <tr>\n",
       "      <th>52</th>\n",
       "      <td>VT</td>\n",
       "      <td>1831.6</td>\n",
       "      <td>27.8</td>\n",
       "      <td>666.2</td>\n",
       "    </tr>\n",
       "    <tr>\n",
       "      <th>53</th>\n",
       "      <td>WA</td>\n",
       "      <td>1831.6</td>\n",
       "      <td>91.6</td>\n",
       "      <td>836.2</td>\n",
       "    </tr>\n",
       "    <tr>\n",
       "      <th>54</th>\n",
       "      <td>WI</td>\n",
       "      <td>1831.6</td>\n",
       "      <td>50.0</td>\n",
       "      <td>733.2</td>\n",
       "    </tr>\n",
       "    <tr>\n",
       "      <th>55</th>\n",
       "      <td>WV</td>\n",
       "      <td>1831.6</td>\n",
       "      <td>38.0</td>\n",
       "      <td>666.2</td>\n",
       "    </tr>\n",
       "    <tr>\n",
       "      <th>56</th>\n",
       "      <td>WY</td>\n",
       "      <td>1831.6</td>\n",
       "      <td>27.8</td>\n",
       "      <td>705.4</td>\n",
       "    </tr>\n",
       "    <tr>\n",
       "      <th>57</th>\n",
       "      <td>ZZ</td>\n",
       "      <td>1831.6</td>\n",
       "      <td>16.4</td>\n",
       "      <td>546.8</td>\n",
       "    </tr>\n",
       "  </tbody>\n",
       "</table>\n",
       "</div>"
      ],
      "text/plain": [
       "   state     226     77     224\n",
       "0     AK  1831.6   56.4   666.2\n",
       "1     AL  1831.6   38.0   978.8\n",
       "2     AR  1831.6   32.2   622.2\n",
       "3     AS  1831.6   27.8   666.2\n",
       "4     AZ  1831.6   34.0   554.0\n",
       "5     CA  1810.0   68.4   890.8\n",
       "6     CO  1831.6   27.8   723.4\n",
       "7     CT  1831.6   27.8   666.2\n",
       "8     DC  1831.6   27.8   760.8\n",
       "9     DE  1831.6   27.8   666.2\n",
       "10    FL  1831.6   20.6   486.4\n",
       "11    GA  1831.6   27.8   833.2\n",
       "12    GU  1831.6   27.8   666.2\n",
       "13    HI  1831.6  121.6  1246.2\n",
       "14    IA  1831.6   21.4   532.8\n",
       "15    ID  1831.6   27.8   452.4\n",
       "16    IL  1831.6   42.4   718.2\n",
       "17    IN  1831.6   29.6   666.2\n",
       "18    KS  1831.6   27.8   578.4\n",
       "19    KY  1831.6   28.2   482.6\n",
       "20    LA  1831.6   50.4   666.2\n",
       "21    MA  1831.6   46.4   778.0\n",
       "22    MD  1831.6   27.8   733.6\n",
       "23    ME  1831.6   36.2   666.2\n",
       "24    MI  1831.6   62.4   826.2\n",
       "25    MN  1831.6   27.8   727.8\n",
       "26    MO  1831.6   40.4   666.2\n",
       "27    MP  1831.6  437.2   666.2\n",
       "28    MS  1831.6   46.0   666.2\n",
       "29    MT  1831.6   27.8   703.6\n",
       "30    NA  1831.6   27.4   641.2\n",
       "31    NC  1831.6   27.8   917.6\n",
       "32    ND  1831.6   27.8   666.2\n",
       "33    NE  1831.6   38.0   571.4\n",
       "34    NH  1831.6   46.2   666.2\n",
       "35    NJ  1831.6   27.8   853.2\n",
       "36    NM  1831.6   75.2   667.0\n",
       "37    NV  1831.6   27.8   513.8\n",
       "38    NY  1860.0   48.8  1019.0\n",
       "39    OH  1831.6   26.8   666.2\n",
       "40    OK  1831.6   27.8   685.8\n",
       "41    OR  1831.6   32.2   502.6\n",
       "42    PA  1831.6   27.8   666.2\n",
       "43    PR  1831.6   58.6   733.4\n",
       "44    RI  1831.6   49.8   666.2\n",
       "45    SC  1831.6   18.4   666.2\n",
       "46    SD  1831.6   27.8   666.2\n",
       "47    TN  1831.6   27.8   669.2\n",
       "48    TX  1831.6   53.6   666.2\n",
       "49    UT  1831.6   23.0   481.4\n",
       "50    VA  1831.6   27.8   666.2\n",
       "51    VI  1831.6   27.8   666.2\n",
       "52    VT  1831.6   27.8   666.2\n",
       "53    WA  1831.6   91.6   836.2\n",
       "54    WI  1831.6   50.0   733.2\n",
       "55    WV  1831.6   38.0   666.2\n",
       "56    WY  1831.6   27.8   705.4\n",
       "57    ZZ  1831.6   16.4   546.8"
      ]
     },
     "execution_count": 101,
     "metadata": {},
     "output_type": "execute_result"
    }
   ],
   "source": [
    "wl_times"
   ]
  },
  {
   "cell_type": "code",
   "execution_count": 102,
   "metadata": {},
   "outputs": [
    {
     "data": {
      "text/html": [
       "<div>\n",
       "<style scoped>\n",
       "    .dataframe tbody tr th:only-of-type {\n",
       "        vertical-align: middle;\n",
       "    }\n",
       "\n",
       "    .dataframe tbody tr th {\n",
       "        vertical-align: top;\n",
       "    }\n",
       "\n",
       "    .dataframe thead th {\n",
       "        text-align: right;\n",
       "    }\n",
       "</style>\n",
       "<table border=\"1\" class=\"dataframe\">\n",
       "  <thead>\n",
       "    <tr style=\"text-align: right;\">\n",
       "      <th></th>\n",
       "      <th>226</th>\n",
       "      <th>77</th>\n",
       "      <th>224</th>\n",
       "    </tr>\n",
       "  </thead>\n",
       "  <tbody>\n",
       "    <tr>\n",
       "      <th>count</th>\n",
       "      <td>58.000000</td>\n",
       "      <td>58.000000</td>\n",
       "      <td>58.000000</td>\n",
       "    </tr>\n",
       "    <tr>\n",
       "      <th>mean</th>\n",
       "      <td>1831.717241</td>\n",
       "      <td>44.362069</td>\n",
       "      <td>690.158621</td>\n",
       "    </tr>\n",
       "    <tr>\n",
       "      <th>std</th>\n",
       "      <td>4.724558</td>\n",
       "      <td>55.599930</td>\n",
       "      <td>136.637647</td>\n",
       "    </tr>\n",
       "    <tr>\n",
       "      <th>min</th>\n",
       "      <td>1810.000000</td>\n",
       "      <td>16.400000</td>\n",
       "      <td>452.400000</td>\n",
       "    </tr>\n",
       "    <tr>\n",
       "      <th>25%</th>\n",
       "      <td>1831.600000</td>\n",
       "      <td>27.800000</td>\n",
       "      <td>666.200000</td>\n",
       "    </tr>\n",
       "    <tr>\n",
       "      <th>50%</th>\n",
       "      <td>1831.600000</td>\n",
       "      <td>27.800000</td>\n",
       "      <td>666.200000</td>\n",
       "    </tr>\n",
       "    <tr>\n",
       "      <th>75%</th>\n",
       "      <td>1831.600000</td>\n",
       "      <td>46.150000</td>\n",
       "      <td>726.700000</td>\n",
       "    </tr>\n",
       "    <tr>\n",
       "      <th>max</th>\n",
       "      <td>1860.000000</td>\n",
       "      <td>437.200000</td>\n",
       "      <td>1246.200000</td>\n",
       "    </tr>\n",
       "  </tbody>\n",
       "</table>\n",
       "</div>"
      ],
      "text/plain": [
       "               226          77          224\n",
       "count    58.000000   58.000000    58.000000\n",
       "mean   1831.717241   44.362069   690.158621\n",
       "std       4.724558   55.599930   136.637647\n",
       "min    1810.000000   16.400000   452.400000\n",
       "25%    1831.600000   27.800000   666.200000\n",
       "50%    1831.600000   27.800000   666.200000\n",
       "75%    1831.600000   46.150000   726.700000\n",
       "max    1860.000000  437.200000  1246.200000"
      ]
     },
     "execution_count": 102,
     "metadata": {},
     "output_type": "execute_result"
    }
   ],
   "source": [
    "wl_times.describe()"
   ]
  },
  {
   "cell_type": "code",
   "execution_count": 56,
   "metadata": {},
   "outputs": [],
   "source": [
    "WA = df.query('PERM_STATE_WA == 1')\n"
   ]
  },
  {
   "cell_type": "code",
   "execution_count": 57,
   "metadata": {},
   "outputs": [],
   "source": [
    "HI = df.query('PERM_STATE_HI == 1')"
   ]
  },
  {
   "cell_type": "code",
   "execution_count": 58,
   "metadata": {},
   "outputs": [],
   "source": [
    "KY= df.query('PERM_STATE_KY==1')"
   ]
  },
  {
   "cell_type": "code",
   "execution_count": 59,
   "metadata": {},
   "outputs": [],
   "source": [
    "IA = df.query('PERM_STATE_IA==1')"
   ]
  },
  {
   "cell_type": "code",
   "execution_count": 97,
   "metadata": {},
   "outputs": [],
   "source": [
    "y_variable = 'DAYSWAIT_CHRON_KI'\n",
    "X_variables = list(CA.columns[CA.columns != y_variable])\n",
    "X = CA[X_variables].to_numpy()\n",
    "y = CA[y_variable].to_numpy()\n",
    "\n",
    "X_train, X_test, y_train, y_test = train_test_split(X, y)\n",
    "\n",
    "forest = RandomForestRegressor(n_estimators=5)\n",
    "model_CA = forest.fit(X_train, y_train)"
   ]
  },
  {
   "cell_type": "code",
   "execution_count": 98,
   "metadata": {},
   "outputs": [
    {
     "data": {
      "text/plain": [
       "array([1946.])"
      ]
     },
     "execution_count": 98,
     "metadata": {},
     "output_type": "execute_result"
    }
   ],
   "source": [
    "model_CA.predict(num_CA_1)"
   ]
  },
  {
   "cell_type": "code",
   "execution_count": 99,
   "metadata": {},
   "outputs": [
    {
     "data": {
      "text/plain": [
       "array([61.2])"
      ]
     },
     "execution_count": 99,
     "metadata": {},
     "output_type": "execute_result"
    }
   ],
   "source": [
    "model_CA.predict(num_CA_2)"
   ]
  },
  {
   "cell_type": "code",
   "execution_count": 100,
   "metadata": {},
   "outputs": [
    {
     "data": {
      "text/plain": [
       "array([914.])"
      ]
     },
     "execution_count": 100,
     "metadata": {},
     "output_type": "execute_result"
    }
   ],
   "source": [
    "model_CA.predict(num_CA_3)"
   ]
  },
  {
   "cell_type": "code",
   "execution_count": null,
   "metadata": {},
   "outputs": [],
   "source": []
  }
 ],
 "metadata": {
  "kernelspec": {
   "display_name": "Python 3",
   "language": "python",
   "name": "python3"
  },
  "language_info": {
   "codemirror_mode": {
    "name": "ipython",
    "version": 3
   },
   "file_extension": ".py",
   "mimetype": "text/x-python",
   "name": "python",
   "nbconvert_exporter": "python",
   "pygments_lexer": "ipython3",
   "version": "3.7.3"
  }
 },
 "nbformat": 4,
 "nbformat_minor": 2
}
