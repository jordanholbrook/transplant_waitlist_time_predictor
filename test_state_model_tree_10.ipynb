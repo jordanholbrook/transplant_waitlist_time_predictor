{
 "cells": [
  {
   "cell_type": "code",
   "execution_count": 1,
   "metadata": {},
   "outputs": [],
   "source": [
    "import pandas as pd\n",
    "import numpy as np\n",
    "import seaborn as sns\n",
    "import statsmodels.api as sm\n",
    "import statsmodels.formula.api as smf\n",
    "from pandas.plotting import scatter_matrix\n",
    "from matplotlib import pyplot as plt\n",
    "from sklearn import tree\n",
    "#import pydotplus\n",
    "import collections\n",
    "from IPython.display import Image  \n",
    "#import pydotplus\n",
    "from sklearn.tree import export_graphviz\n",
    "import random"
   ]
  },
  {
   "cell_type": "code",
   "execution_count": 2,
   "metadata": {},
   "outputs": [],
   "source": [
    "import copy"
   ]
  },
  {
   "cell_type": "code",
   "execution_count": 3,
   "metadata": {},
   "outputs": [],
   "source": [
    "%matplotlib inline\n",
    "from sklearn.model_selection import train_test_split\n",
    "from sklearn.ensemble import RandomForestRegressor\n",
    "\n",
    "#from sklearn.ensemble import RandomForestClassfier\n",
    "from sklearn.feature_selection import SelectFromModel"
   ]
  },
  {
   "cell_type": "code",
   "execution_count": 4,
   "metadata": {},
   "outputs": [],
   "source": [
    "df = pd.read_stata(\"Econ_484_data_final.dta\")"
   ]
  },
  {
   "cell_type": "code",
   "execution_count": 5,
   "metadata": {},
   "outputs": [],
   "source": [
    "df = df.drop(\"DAYSWAIT_CHRON\", axis=1)"
   ]
  },
  {
   "cell_type": "code",
   "execution_count": 6,
   "metadata": {},
   "outputs": [],
   "source": [
    "df = df.dropna(axis=0, how='any')"
   ]
  },
  {
   "cell_type": "code",
   "execution_count": 7,
   "metadata": {},
   "outputs": [],
   "source": [
    "df['year'] = pd.DatetimeIndex(df[\"TX_DATE\"]).year\n",
    "df['month'] = pd.DatetimeIndex(df[\"TX_DATE\"]).month\n",
    "df = df.drop(\"TX_DATE\", axis=1)"
   ]
  },
  {
   "cell_type": "markdown",
   "metadata": {},
   "source": [
    "### Here I sort the dataframe by the Wait List length and put people into quintile buckets 0-4, 0 being the shortest quintile waitlist time and 4 being the longest wl time. I also create an ID indictator so I can identify people later on. "
   ]
  },
  {
   "cell_type": "code",
   "execution_count": 8,
   "metadata": {},
   "outputs": [],
   "source": [
    " df['quint']=df.groupby('PERM_STATE')['DAYSWAIT_CHRON_KI'].transform(pd.qcut,5,labels=False)"
   ]
  },
  {
   "cell_type": "code",
   "execution_count": 9,
   "metadata": {},
   "outputs": [],
   "source": [
    "df['id'] = df.index"
   ]
  },
  {
   "cell_type": "markdown",
   "metadata": {},
   "source": [
    "### Now I am creating lists of the of the ID values for each quintile and then creating a list of 25 random people from our quintile sample. I can drop the quint column after I am done with this. "
   ]
  },
  {
   "cell_type": "code",
   "execution_count": 10,
   "metadata": {},
   "outputs": [],
   "source": [
    "rand_people_0_wl = df.query('quint == 0')['id'].tolist() \n",
    "sampling_0 = random.sample(rand_people_0_wl, k=25)\n",
    "rand_people_1_wl = df.query('quint == 1')['id'].tolist()\n",
    "sampling_1 = random.sample(rand_people_1_wl, k=25)\n",
    "rand_people_2_wl = df.query('quint == 2')['id'].tolist()\n",
    "sampling_2 = random.sample(rand_people_2_wl, k=25)\n",
    "rand_people_3_wl = df.query('quint == 3')['id'].tolist()\n",
    "sampling_3 = random.sample(rand_people_3_wl, k=25)\n",
    "rand_people_4_wl = df.query('quint == 4')['id'].tolist()\n",
    "sampling_4 = random.sample(rand_people_4_wl, k=25)"
   ]
  },
  {
   "cell_type": "code",
   "execution_count": 11,
   "metadata": {},
   "outputs": [],
   "source": [
    "df = df.drop(['quint','id'], axis=1)"
   ]
  },
  {
   "cell_type": "markdown",
   "metadata": {},
   "source": [
    "### These are the \"Average\" People Logan Created, I am adding them into the bottom of the data frame"
   ]
  },
  {
   "cell_type": "code",
   "execution_count": 12,
   "metadata": {},
   "outputs": [
    {
     "data": {
      "text/html": [
       "<div>\n",
       "<style scoped>\n",
       "    .dataframe tbody tr th:only-of-type {\n",
       "        vertical-align: middle;\n",
       "    }\n",
       "\n",
       "    .dataframe tbody tr th {\n",
       "        vertical-align: top;\n",
       "    }\n",
       "\n",
       "    .dataframe thead th {\n",
       "        text-align: right;\n",
       "    }\n",
       "</style>\n",
       "<table border=\"1\" class=\"dataframe\">\n",
       "  <thead>\n",
       "    <tr style=\"text-align: right;\">\n",
       "      <th></th>\n",
       "      <th>NUM_PREV_TX</th>\n",
       "      <th>A1</th>\n",
       "      <th>A2</th>\n",
       "      <th>B1</th>\n",
       "      <th>B2</th>\n",
       "      <th>DR1</th>\n",
       "      <th>DR2</th>\n",
       "      <th>gender</th>\n",
       "      <th>abo</th>\n",
       "      <th>PERM_STATE</th>\n",
       "      <th>...</th>\n",
       "      <th>PX_STAT</th>\n",
       "      <th>SHARE_TY</th>\n",
       "      <th>pstatus</th>\n",
       "      <th>ptime</th>\n",
       "      <th>AGE_GROUP</th>\n",
       "      <th>malig</th>\n",
       "      <th>LT_ONE_WEEK_DON</th>\n",
       "      <th>RECOV_OUT_US</th>\n",
       "      <th>year</th>\n",
       "      <th>month</th>\n",
       "    </tr>\n",
       "  </thead>\n",
       "  <tbody>\n",
       "    <tr>\n",
       "      <th>0</th>\n",
       "      <td>0</td>\n",
       "      <td>2</td>\n",
       "      <td>24</td>\n",
       "      <td>27</td>\n",
       "      <td>49</td>\n",
       "      <td>4</td>\n",
       "      <td>11</td>\n",
       "      <td>M</td>\n",
       "      <td>A</td>\n",
       "      <td>CA</td>\n",
       "      <td>...</td>\n",
       "      <td>A</td>\n",
       "      <td>3</td>\n",
       "      <td>0</td>\n",
       "      <td>2031</td>\n",
       "      <td>A</td>\n",
       "      <td>N</td>\n",
       "      <td>N</td>\n",
       "      <td>N</td>\n",
       "      <td>2006</td>\n",
       "      <td>7</td>\n",
       "    </tr>\n",
       "    <tr>\n",
       "      <th>1</th>\n",
       "      <td>0</td>\n",
       "      <td>2</td>\n",
       "      <td>24</td>\n",
       "      <td>35</td>\n",
       "      <td>50</td>\n",
       "      <td>7</td>\n",
       "      <td>11</td>\n",
       "      <td>M</td>\n",
       "      <td>O</td>\n",
       "      <td>CA</td>\n",
       "      <td>...</td>\n",
       "      <td>A</td>\n",
       "      <td>3</td>\n",
       "      <td>0</td>\n",
       "      <td>2177</td>\n",
       "      <td>A</td>\n",
       "      <td>N</td>\n",
       "      <td>N</td>\n",
       "      <td>N</td>\n",
       "      <td>2006</td>\n",
       "      <td>7</td>\n",
       "    </tr>\n",
       "    <tr>\n",
       "      <th>2</th>\n",
       "      <td>0</td>\n",
       "      <td>2</td>\n",
       "      <td>28</td>\n",
       "      <td>35</td>\n",
       "      <td>51</td>\n",
       "      <td>7</td>\n",
       "      <td>12</td>\n",
       "      <td>M</td>\n",
       "      <td>O</td>\n",
       "      <td>CA</td>\n",
       "      <td>...</td>\n",
       "      <td>A</td>\n",
       "      <td>3</td>\n",
       "      <td>0</td>\n",
       "      <td>1677</td>\n",
       "      <td>A</td>\n",
       "      <td>N</td>\n",
       "      <td>N</td>\n",
       "      <td>N</td>\n",
       "      <td>2010</td>\n",
       "      <td>7</td>\n",
       "    </tr>\n",
       "  </tbody>\n",
       "</table>\n",
       "<p>3 rows × 50 columns</p>\n",
       "</div>"
      ],
      "text/plain": [
       "   NUM_PREV_TX  A1  A2  B1  B2  DR1  DR2 gender abo PERM_STATE  ...  PX_STAT  \\\n",
       "0            0   2  24  27  49    4   11      M   A         CA  ...        A   \n",
       "1            0   2  24  35  50    7   11      M   O         CA  ...        A   \n",
       "2            0   2  28  35  51    7   12      M   O         CA  ...        A   \n",
       "\n",
       "   SHARE_TY  pstatus  ptime  AGE_GROUP  malig LT_ONE_WEEK_DON RECOV_OUT_US  \\\n",
       "0         3        0   2031          A      N               N            N   \n",
       "1         3        0   2177          A      N               N            N   \n",
       "2         3        0   1677          A      N               N            N   \n",
       "\n",
       "   year month  \n",
       "0  2006     7  \n",
       "1  2006     7  \n",
       "2  2010     7  \n",
       "\n",
       "[3 rows x 50 columns]"
      ]
     },
     "execution_count": 12,
     "metadata": {},
     "output_type": "execute_result"
    }
   ],
   "source": [
    "df_ave = pd.read_excel('data_5.xlsx', sheet_name= 'Sheet2')\n",
    "df_ave"
   ]
  },
  {
   "cell_type": "code",
   "execution_count": 13,
   "metadata": {},
   "outputs": [],
   "source": [
    "frames=[df, df_ave]\n",
    "df = pd.concat(frames).reset_index(drop=True)"
   ]
  },
  {
   "cell_type": "code",
   "execution_count": 14,
   "metadata": {},
   "outputs": [
    {
     "data": {
      "text/html": [
       "<div>\n",
       "<style scoped>\n",
       "    .dataframe tbody tr th:only-of-type {\n",
       "        vertical-align: middle;\n",
       "    }\n",
       "\n",
       "    .dataframe tbody tr th {\n",
       "        vertical-align: top;\n",
       "    }\n",
       "\n",
       "    .dataframe thead th {\n",
       "        text-align: right;\n",
       "    }\n",
       "</style>\n",
       "<table border=\"1\" class=\"dataframe\">\n",
       "  <thead>\n",
       "    <tr style=\"text-align: right;\">\n",
       "      <th></th>\n",
       "      <th>NUM_PREV_TX</th>\n",
       "      <th>A1</th>\n",
       "      <th>A2</th>\n",
       "      <th>B1</th>\n",
       "      <th>B2</th>\n",
       "      <th>DR1</th>\n",
       "      <th>DR2</th>\n",
       "      <th>gender</th>\n",
       "      <th>abo</th>\n",
       "      <th>PERM_STATE</th>\n",
       "      <th>...</th>\n",
       "      <th>PX_STAT</th>\n",
       "      <th>SHARE_TY</th>\n",
       "      <th>pstatus</th>\n",
       "      <th>ptime</th>\n",
       "      <th>AGE_GROUP</th>\n",
       "      <th>malig</th>\n",
       "      <th>LT_ONE_WEEK_DON</th>\n",
       "      <th>RECOV_OUT_US</th>\n",
       "      <th>year</th>\n",
       "      <th>month</th>\n",
       "    </tr>\n",
       "  </thead>\n",
       "  <tbody>\n",
       "    <tr>\n",
       "      <th>401746</th>\n",
       "      <td>0</td>\n",
       "      <td>36</td>\n",
       "      <td>68</td>\n",
       "      <td>53</td>\n",
       "      <td>57</td>\n",
       "      <td>11</td>\n",
       "      <td>13</td>\n",
       "      <td>M</td>\n",
       "      <td>O</td>\n",
       "      <td>IL</td>\n",
       "      <td>...</td>\n",
       "      <td>A</td>\n",
       "      <td>3</td>\n",
       "      <td>0</td>\n",
       "      <td>3.0</td>\n",
       "      <td>A</td>\n",
       "      <td>N</td>\n",
       "      <td>N</td>\n",
       "      <td></td>\n",
       "      <td>2018</td>\n",
       "      <td>12</td>\n",
       "    </tr>\n",
       "    <tr>\n",
       "      <th>401747</th>\n",
       "      <td>1</td>\n",
       "      <td>2</td>\n",
       "      <td>2</td>\n",
       "      <td>55</td>\n",
       "      <td>57</td>\n",
       "      <td>4</td>\n",
       "      <td>7</td>\n",
       "      <td>F</td>\n",
       "      <td>O</td>\n",
       "      <td>IN</td>\n",
       "      <td>...</td>\n",
       "      <td>A</td>\n",
       "      <td>3</td>\n",
       "      <td>0</td>\n",
       "      <td>19.0</td>\n",
       "      <td>P</td>\n",
       "      <td>N</td>\n",
       "      <td>N</td>\n",
       "      <td></td>\n",
       "      <td>2018</td>\n",
       "      <td>10</td>\n",
       "    </tr>\n",
       "    <tr>\n",
       "      <th>401748</th>\n",
       "      <td>0</td>\n",
       "      <td>2</td>\n",
       "      <td>24</td>\n",
       "      <td>27</td>\n",
       "      <td>49</td>\n",
       "      <td>4</td>\n",
       "      <td>11</td>\n",
       "      <td>M</td>\n",
       "      <td>A</td>\n",
       "      <td>CA</td>\n",
       "      <td>...</td>\n",
       "      <td>A</td>\n",
       "      <td>3</td>\n",
       "      <td>0</td>\n",
       "      <td>2031.0</td>\n",
       "      <td>A</td>\n",
       "      <td>N</td>\n",
       "      <td>N</td>\n",
       "      <td>N</td>\n",
       "      <td>2006</td>\n",
       "      <td>7</td>\n",
       "    </tr>\n",
       "    <tr>\n",
       "      <th>401749</th>\n",
       "      <td>0</td>\n",
       "      <td>2</td>\n",
       "      <td>24</td>\n",
       "      <td>35</td>\n",
       "      <td>50</td>\n",
       "      <td>7</td>\n",
       "      <td>11</td>\n",
       "      <td>M</td>\n",
       "      <td>O</td>\n",
       "      <td>CA</td>\n",
       "      <td>...</td>\n",
       "      <td>A</td>\n",
       "      <td>3</td>\n",
       "      <td>0</td>\n",
       "      <td>2177.0</td>\n",
       "      <td>A</td>\n",
       "      <td>N</td>\n",
       "      <td>N</td>\n",
       "      <td>N</td>\n",
       "      <td>2006</td>\n",
       "      <td>7</td>\n",
       "    </tr>\n",
       "    <tr>\n",
       "      <th>401750</th>\n",
       "      <td>0</td>\n",
       "      <td>2</td>\n",
       "      <td>28</td>\n",
       "      <td>35</td>\n",
       "      <td>51</td>\n",
       "      <td>7</td>\n",
       "      <td>12</td>\n",
       "      <td>M</td>\n",
       "      <td>O</td>\n",
       "      <td>CA</td>\n",
       "      <td>...</td>\n",
       "      <td>A</td>\n",
       "      <td>3</td>\n",
       "      <td>0</td>\n",
       "      <td>1677.0</td>\n",
       "      <td>A</td>\n",
       "      <td>N</td>\n",
       "      <td>N</td>\n",
       "      <td>N</td>\n",
       "      <td>2010</td>\n",
       "      <td>7</td>\n",
       "    </tr>\n",
       "  </tbody>\n",
       "</table>\n",
       "<p>5 rows × 50 columns</p>\n",
       "</div>"
      ],
      "text/plain": [
       "        NUM_PREV_TX  A1  A2  B1  B2  DR1  DR2 gender abo PERM_STATE  ...  \\\n",
       "401746            0  36  68  53  57   11   13      M   O         IL  ...   \n",
       "401747            1   2   2  55  57    4    7      F   O         IN  ...   \n",
       "401748            0   2  24  27  49    4   11      M   A         CA  ...   \n",
       "401749            0   2  24  35  50    7   11      M   O         CA  ...   \n",
       "401750            0   2  28  35  51    7   12      M   O         CA  ...   \n",
       "\n",
       "        PX_STAT  SHARE_TY  pstatus   ptime  AGE_GROUP  malig LT_ONE_WEEK_DON  \\\n",
       "401746        A         3        0     3.0          A      N               N   \n",
       "401747        A         3        0    19.0          P      N               N   \n",
       "401748        A         3        0  2031.0          A      N               N   \n",
       "401749        A         3        0  2177.0          A      N               N   \n",
       "401750        A         3        0  1677.0          A      N               N   \n",
       "\n",
       "       RECOV_OUT_US  year month  \n",
       "401746               2018    12  \n",
       "401747               2018    10  \n",
       "401748            N  2006     7  \n",
       "401749            N  2006     7  \n",
       "401750            N  2010     7  \n",
       "\n",
       "[5 rows x 50 columns]"
      ]
     },
     "execution_count": 14,
     "metadata": {},
     "output_type": "execute_result"
    }
   ],
   "source": [
    "# Average People are included\n",
    "df.tail()\n"
   ]
  },
  {
   "cell_type": "markdown",
   "metadata": {},
   "source": [
    "### Making Dummy Variables for Everything Cateogorical \n"
   ]
  },
  {
   "cell_type": "code",
   "execution_count": 15,
   "metadata": {},
   "outputs": [],
   "source": [
    "dummy_columns = ['gender', 'abo', 'EXH_PERIT_ACCESS', 'EXH_VASC_ACCESS', 'PREV_TX', 'PREV_KI_TX',\n",
    "                 'MALIG_TRR', 'txkid', 'ABO_DON','DON_TY', 'GENDER_DON',\n",
    "                 'HOME_STATE_DON', 'ABO_MAT', 'GRF_STAT_KI', 'DWFG_KI', 'PREV_TX_ANY', 'PX_STAT',\n",
    "                 'SHARE_TY', 'AGE_GROUP', 'malig', 'LT_ONE_WEEK_DON', 'RECOV_OUT_US', 'year', 'month',\n",
    "                 'PERM_STATE']\n",
    "funky_columns = ['TX_PROCEDUR_TY_KI']"
   ]
  },
  {
   "cell_type": "code",
   "execution_count": 16,
   "metadata": {},
   "outputs": [],
   "source": [
    "df_non_dummy = df.drop(dummy_columns, axis=1)\n",
    "#df_non_dummy"
   ]
  },
  {
   "cell_type": "code",
   "execution_count": 17,
   "metadata": {},
   "outputs": [],
   "source": [
    "df_dummified = pd.get_dummies(df[dummy_columns])\n"
   ]
  },
  {
   "cell_type": "code",
   "execution_count": 18,
   "metadata": {
    "scrolled": true
   },
   "outputs": [
    {
     "data": {
      "text/plain": [
       "(401751, 217)"
      ]
     },
     "execution_count": 18,
     "metadata": {},
     "output_type": "execute_result"
    }
   ],
   "source": [
    "df = df_non_dummy.merge(df_dummified, left_index=True, right_index=True)\n",
    "df.shape"
   ]
  },
  {
   "cell_type": "markdown",
   "metadata": {},
   "source": [
    "### Here is our Beautiful Random Forest Model, Need to cross validate and tune parameters. "
   ]
  },
  {
   "cell_type": "code",
   "execution_count": 19,
   "metadata": {},
   "outputs": [],
   "source": [
    "y_variable = 'DAYSWAIT_CHRON_KI'\n",
    "X_variables = list(df.columns[df.columns != y_variable])\n",
    "X = df[X_variables].to_numpy()\n",
    "y = df[y_variable].to_numpy()\n",
    "\n",
    "X_train, X_test, y_train, y_test = train_test_split(X, y)\n",
    "\n",
    "forest = RandomForestRegressor(n_estimators=7)\n",
    "model = forest.fit(X_train, y_train)"
   ]
  },
  {
   "cell_type": "code",
   "execution_count": 20,
   "metadata": {
    "scrolled": true
   },
   "outputs": [
    {
     "data": {
      "text/plain": [
       "0.8324332937892472"
      ]
     },
     "execution_count": 20,
     "metadata": {},
     "output_type": "execute_result"
    }
   ],
   "source": [
    "model.score(X_test,y_test)"
   ]
  },
  {
   "cell_type": "markdown",
   "metadata": {},
   "source": [
    "### I dont know what to do with this yet. Not sure how to fix it so we can read the feature importance graph. "
   ]
  },
  {
   "cell_type": "code",
   "execution_count": 21,
   "metadata": {},
   "outputs": [
    {
     "ename": "NameError",
     "evalue": "name 'RandomForestRegress' is not defined",
     "output_type": "error",
     "traceback": [
      "\u001b[1;31m---------------------------------------------------------------------------\u001b[0m",
      "\u001b[1;31mNameError\u001b[0m                                 Traceback (most recent call last)",
      "\u001b[1;32m<ipython-input-21-bccf09be481f>\u001b[0m in \u001b[0;36m<module>\u001b[1;34m\u001b[0m\n\u001b[1;32m----> 1\u001b[1;33m \u001b[0msel\u001b[0m \u001b[1;33m=\u001b[0m \u001b[0mSelectFromModel\u001b[0m\u001b[1;33m(\u001b[0m\u001b[0mRandomForestRegress\u001b[0m\u001b[1;33m(\u001b[0m\u001b[0mn_estimators\u001b[0m \u001b[1;33m=\u001b[0m \u001b[1;36m100\u001b[0m\u001b[1;33m)\u001b[0m\u001b[1;33m)\u001b[0m\u001b[1;33m\u001b[0m\u001b[1;33m\u001b[0m\u001b[0m\n\u001b[0m\u001b[0;32m      2\u001b[0m \u001b[0msel\u001b[0m\u001b[1;33m.\u001b[0m\u001b[0mfit\u001b[0m\u001b[1;33m(\u001b[0m\u001b[0mX_train\u001b[0m\u001b[1;33m,\u001b[0m \u001b[0my_train\u001b[0m\u001b[1;33m)\u001b[0m\u001b[1;33m\u001b[0m\u001b[1;33m\u001b[0m\u001b[0m\n",
      "\u001b[1;31mNameError\u001b[0m: name 'RandomForestRegress' is not defined"
     ]
    }
   ],
   "source": [
    "sel = SelectFromModel(RandomForestRegress(n_estimators = 100))\n",
    "sel.fit(X_train, y_train)"
   ]
  },
  {
   "cell_type": "code",
   "execution_count": null,
   "metadata": {},
   "outputs": [],
   "source": [
    "def plot_feature_importances_(model):\n",
    "    n_features = X_test.shape[1]\n",
    "    plt.barh(np.arange(n_features),model.feature_importances_, align='center')\n",
    "    plt.yticks(np.arange(n_features),df.columns)\n",
    "    plt.xlabel(\"Feature importance\")\n",
    "    plt.ylabel(\"Feature\")\n",
    "    plt.ylim(-1, n_features)\n",
    "\n",
    "plot_feature_importances_(model)"
   ]
  },
  {
   "cell_type": "code",
   "execution_count": null,
   "metadata": {
    "scrolled": true
   },
   "outputs": [],
   "source": [
    "num_21 =  X[21,:].copy().reshape(1, -1)\n",
    "num_21  = pd.DataFrame(num_21, columns = df[X_variables].columns)\n",
    "num_21.iloc[0,:160]"
   ]
  },
  {
   "cell_type": "markdown",
   "metadata": {},
   "source": [
    "### This is where the magic happens!"
   ]
  },
  {
   "cell_type": "code",
   "execution_count": null,
   "metadata": {},
   "outputs": [],
   "source": [
    "state_names = ['AK','AL','AR','AS','AZ','CA','CO','CT','DC','DE','FL','GA',\n",
    "               'GU','HI','IA','ID','IL','IN','KS','KY','LA','MA','MD','ME',\n",
    "               'MI','MN','MO','MP','MS','MT','NA','NC','ND','NE','NH','NJ',\n",
    "               'NM','NV','NY','OH','OK','OR','PA','PR','RI','SC','SD','TN',\n",
    "               'TX','UT','VA','VI','VT','WA','WI','WV','WY','ZZ']"
   ]
  },
  {
   "cell_type": "markdown",
   "metadata": {},
   "source": [
    "### This is a for loop that takes the random sample from quintile 0 and predicts their waitlist time changing the state they live in each time for all states and territories. It puts this info into a data frame, wl_times_0 and then we can take summary stats on this dataframe. W\n",
    "\n",
    "### When I increase the sample size to 100 or 1,000 I am not quite sure what summary stats to report on that right now, maybe the distribution of waitlist variances? See how"
   ]
  },
  {
   "cell_type": "code",
   "execution_count": null,
   "metadata": {},
   "outputs": [],
   "source": [
    "wl_times_0 = pd.DataFrame()\n",
    "wl_times_0['state']= state_names\n",
    "\n",
    "\n",
    "for j in sampling_0:\n",
    "    List = []\n",
    "    for i in range(58):\n",
    "        A = np.zeros((58,), dtype=int)\n",
    "        A[i]=1\n",
    "            \n",
    "        num_10000 = np.concatenate((X[j,:157].copy(),A), axis = None).reshape(1,-1)\n",
    "        List.append(model.predict(num_10000))\n",
    "        #print(model.predict(num_10000))\n",
    "        \n",
    "    List = np.asarray(List)  \n",
    "    wl_times_0[j] = List\n",
    "\n",
    "\n",
    "wl_times_0.describe()"
   ]
  },
  {
   "cell_type": "code",
   "execution_count": null,
   "metadata": {},
   "outputs": [],
   "source": [
    "wl_times_1 = pd.DataFrame()\n",
    "wl_times_1['state']= state_names\n",
    "\n",
    "\n",
    "for j in sampling_1:\n",
    "    List = []\n",
    "    for i in range(58):\n",
    "        A = np.zeros((58,), dtype=int)\n",
    "        A[i]=1\n",
    "            \n",
    "        num_10000 = np.concatenate((X[j,:157].copy(),A), axis = None).reshape(1,-1)\n",
    "        List.append(model.predict(num_10000))\n",
    "        #print(model.predict(num_10000))\n",
    "        \n",
    "    List = np.asarray(List)  \n",
    "    wl_times_1[j] = List\n",
    "\n",
    "\n",
    "wl_times_1.describe()"
   ]
  },
  {
   "cell_type": "code",
   "execution_count": null,
   "metadata": {},
   "outputs": [],
   "source": [
    "wl_times_2 = pd.DataFrame()\n",
    "wl_times_2['state']= state_names\n",
    "\n",
    "\n",
    "for j in sampling_2:\n",
    "    List = []\n",
    "    for i in range(58):\n",
    "        A = np.zeros((58,), dtype=int)\n",
    "        A[i]=1\n",
    "            \n",
    "        num_10000 = np.concatenate((X[j,:157].copy(),A), axis = None).reshape(1,-1)\n",
    "        List.append(model.predict(num_10000))\n",
    "        #print(model.predict(num_10000))\n",
    "        \n",
    "    List = np.asarray(List)  \n",
    "    wl_times_2[j] = List\n",
    "\n",
    "\n",
    "wl_times_2.describe()"
   ]
  },
  {
   "cell_type": "code",
   "execution_count": null,
   "metadata": {},
   "outputs": [],
   "source": [
    "wl_times_3 = pd.DataFrame()\n",
    "wl_times_3['state']= state_names\n",
    "\n",
    "\n",
    "for j in sampling_3:\n",
    "    List = []\n",
    "    for i in range(58):\n",
    "        A = np.zeros((58,), dtype=int)\n",
    "        A[i]=1\n",
    "            \n",
    "        num_10000 = np.concatenate((X[j,:157].copy(),A), axis = None).reshape(1,-1)\n",
    "        List.append(model.predict(num_10000))\n",
    "        #print(model.predict(num_10000))\n",
    "        \n",
    "    List = np.asarray(List)  \n",
    "    wl_times_3[j] = List\n",
    "\n",
    "\n",
    "wl_times_3.describe()"
   ]
  },
  {
   "cell_type": "code",
   "execution_count": null,
   "metadata": {},
   "outputs": [],
   "source": [
    "wl_times_4 = pd.DataFrame()\n",
    "wl_times_4['state']= state_names\n",
    "\n",
    "\n",
    "for j in sampling_4:\n",
    "    List = []\n",
    "    for i in range(58):\n",
    "        A = np.zeros((58,), dtype=int)\n",
    "        A[i]=1\n",
    "            \n",
    "        num_10000 = np.concatenate((X[j,:157].copy(),A), axis = None).reshape(1,-1)\n",
    "        List.append(model.predict(num_10000))\n",
    "        #print(model.predict(num_10000))\n",
    "        \n",
    "    List = np.asarray(List)  \n",
    "    wl_times_4[j] = List\n",
    "\n",
    "\n",
    "wl_times_4.describe()"
   ]
  },
  {
   "cell_type": "markdown",
   "metadata": {},
   "source": [
    "### Now we repeat this process for the \"average people\"\n",
    "### They are at the end of the data frame, they are ordered short, medium, long. "
   ]
  },
  {
   "cell_type": "code",
   "execution_count": null,
   "metadata": {
    "scrolled": true
   },
   "outputs": [],
   "source": [
    "\n",
    "\n",
    "wl_times_ave_peeps = pd.DataFrame()\n",
    "wl_times_ave_peeps['state']= state_names\n",
    "ave_peep_id = [401748,401749,401750]\n",
    "\n",
    "for j in ave_peep_id:\n",
    "    List = []\n",
    "    for i in range(58):\n",
    "        A = np.zeros((58,), dtype=int)\n",
    "        A[i]=1\n",
    "            \n",
    "        num_10000 = np.concatenate((X[j,:157].copy(),A), axis = None).reshape(1,-1)\n",
    "        List.append(model.predict(num_10000))\n",
    "        #print(model.predict(num_10000))\n",
    "        \n",
    "    List = np.asarray(List)  \n",
    "    wl_times_ave_peeps[j] = List\n",
    "\n",
    "\n",
    "wl_times_ave_peeps.describe()"
   ]
  },
  {
   "cell_type": "code",
   "execution_count": null,
   "metadata": {
    "scrolled": true
   },
   "outputs": [],
   "source": [
    "\n"
   ]
  },
  {
   "cell_type": "code",
   "execution_count": null,
   "metadata": {},
   "outputs": [],
   "source": []
  },
  {
   "cell_type": "code",
   "execution_count": null,
   "metadata": {},
   "outputs": [],
   "source": []
  }
 ],
 "metadata": {
  "kernelspec": {
   "display_name": "Python 3",
   "language": "python",
   "name": "python3"
  },
  "language_info": {
   "codemirror_mode": {
    "name": "ipython",
    "version": 3
   },
   "file_extension": ".py",
   "mimetype": "text/x-python",
   "name": "python",
   "nbconvert_exporter": "python",
   "pygments_lexer": "ipython3",
   "version": "3.7.3"
  }
 },
 "nbformat": 4,
 "nbformat_minor": 2
}
