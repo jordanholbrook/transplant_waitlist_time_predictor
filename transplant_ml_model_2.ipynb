{
 "cells": [
  {
   "cell_type": "code",
   "execution_count": 1,
   "metadata": {
    "colab": {},
    "colab_type": "code",
    "id": "g_818wMS5hXF"
   },
   "outputs": [],
   "source": [
    "import pandas as pd\n",
    "import numpy as np\n",
    "import seaborn as sns\n",
    "import statsmodels.api as sm\n",
    "import statsmodels.formula.api as smf\n",
    "from pandas.plotting import scatter_matrix\n",
    "from matplotlib import pyplot as plt\n",
    "from sklearn import tree\n",
    "#import pydotplus\n",
    "import collections\n",
    "from IPython.display import Image  \n",
    "#import pydotplus\n",
    "from sklearn.tree import export_graphviz"
   ]
  },
  {
   "cell_type": "code",
   "execution_count": 1,
   "metadata": {},
   "outputs": [],
   "source": [
    "import pandas as pd\n",
    "import numpy as np"
   ]
  },
  {
   "cell_type": "code",
   "execution_count": 2,
   "metadata": {
    "colab": {},
    "colab_type": "code",
    "id": "GCSX6Wxv5hXI"
   },
   "outputs": [],
   "source": [
    "import copy"
   ]
  },
  {
   "cell_type": "code",
   "execution_count": 2,
   "metadata": {
    "colab": {},
    "colab_type": "code",
    "id": "g8rU7n3f5hXK"
   },
   "outputs": [],
   "source": [
    "%matplotlib inline\n",
    "from sklearn.model_selection import train_test_split\n",
    "from sklearn.ensemble import RandomForestRegressor"
   ]
  },
  {
   "cell_type": "code",
   "execution_count": 3,
   "metadata": {
    "colab": {},
    "colab_type": "code",
    "id": "mGX6Zrfu5hXM"
   },
   "outputs": [],
   "source": [
    "df = pd.read_stata(\"Econ_484_data_final.dta\")"
   ]
  },
  {
   "cell_type": "code",
   "execution_count": 4,
   "metadata": {
    "colab": {},
    "colab_type": "code",
    "id": "k8teFoyB5hXO"
   },
   "outputs": [],
   "source": [
    "# df.isin([\"''\"]).sum(axis=1).sum()"
   ]
  },
  {
   "cell_type": "code",
   "execution_count": 5,
   "metadata": {
    "colab": {},
    "colab_type": "code",
    "id": "m61kVDFi5hXQ"
   },
   "outputs": [],
   "source": [
    "df = df.drop(\"DAYSWAIT_CHRON\", axis=1)"
   ]
  },
  {
   "cell_type": "code",
   "execution_count": 6,
   "metadata": {
    "colab": {},
    "colab_type": "code",
    "id": "XVJHHhNl5hXR"
   },
   "outputs": [],
   "source": [
    "df = df.dropna(axis=0, how='any')"
   ]
  },
  {
   "cell_type": "code",
   "execution_count": 7,
   "metadata": {
    "colab": {},
    "colab_type": "code",
    "id": "mbAEoxQG5hXT"
   },
   "outputs": [],
   "source": [
    "df['year'] = pd.DatetimeIndex(df[\"TX_DATE\"]).year\n",
    "df['month'] = pd.DatetimeIndex(df[\"TX_DATE\"]).month\n",
    "df = df.drop(\"TX_DATE\", axis=1)"
   ]
  },
  {
   "cell_type": "markdown",
   "metadata": {
    "colab": {},
    "colab_type": "code",
    "id": "l2h0AXRi5hYL"
   },
   "source": [
    "### Howdie y'all. Here's the \"Average person\" code\n",
    "I decided it made the most sense to do it here because this is before we turn our \"object\" (strings) into ints/floats. It shoul dbe easy to move between stuff from here but let me know if you have to think about anything for more than like 10 minutes because if so, you have to work harder than I intended.\n",
    "\n",
    "It's pretty simple. Sorry I didn't get to it until just barely."
   ]
  },
  {
   "cell_type": "code",
   "execution_count": 8,
   "metadata": {},
   "outputs": [
    {
     "data": {
      "text/html": [
       "<div>\n",
       "<style scoped>\n",
       "    .dataframe tbody tr th:only-of-type {\n",
       "        vertical-align: middle;\n",
       "    }\n",
       "\n",
       "    .dataframe tbody tr th {\n",
       "        vertical-align: top;\n",
       "    }\n",
       "\n",
       "    .dataframe thead th {\n",
       "        text-align: right;\n",
       "    }\n",
       "</style>\n",
       "<table border=\"1\" class=\"dataframe\">\n",
       "  <thead>\n",
       "    <tr style=\"text-align: right;\">\n",
       "      <th></th>\n",
       "      <th>gender</th>\n",
       "      <th>abo</th>\n",
       "      <th>PERM_STATE</th>\n",
       "      <th>EXH_PERIT_ACCESS</th>\n",
       "      <th>EXH_VASC_ACCESS</th>\n",
       "      <th>PREV_TX</th>\n",
       "      <th>PREV_KI_TX</th>\n",
       "      <th>MALIG_TRR</th>\n",
       "      <th>txkid</th>\n",
       "      <th>ABO_DON</th>\n",
       "      <th>...</th>\n",
       "      <th>HOME_STATE_DON</th>\n",
       "      <th>ABO_MAT</th>\n",
       "      <th>GRF_STAT_KI</th>\n",
       "      <th>DWFG_KI</th>\n",
       "      <th>PREV_TX_ANY</th>\n",
       "      <th>PX_STAT</th>\n",
       "      <th>AGE_GROUP</th>\n",
       "      <th>malig</th>\n",
       "      <th>LT_ONE_WEEK_DON</th>\n",
       "      <th>RECOV_OUT_US</th>\n",
       "    </tr>\n",
       "  </thead>\n",
       "  <tbody>\n",
       "    <tr>\n",
       "      <th>0</th>\n",
       "      <td>M</td>\n",
       "      <td>O</td>\n",
       "      <td>CA</td>\n",
       "      <td>N</td>\n",
       "      <td>N</td>\n",
       "      <td>N</td>\n",
       "      <td>N</td>\n",
       "      <td>N</td>\n",
       "      <td>L</td>\n",
       "      <td>O</td>\n",
       "      <td>...</td>\n",
       "      <td>CA</td>\n",
       "      <td>1</td>\n",
       "      <td>Y</td>\n",
       "      <td>N</td>\n",
       "      <td>N</td>\n",
       "      <td>A</td>\n",
       "      <td>A</td>\n",
       "      <td>N</td>\n",
       "      <td>N</td>\n",
       "      <td>N</td>\n",
       "    </tr>\n",
       "  </tbody>\n",
       "</table>\n",
       "<p>1 rows × 22 columns</p>\n",
       "</div>"
      ],
      "text/plain": [
       "  gender abo PERM_STATE EXH_PERIT_ACCESS EXH_VASC_ACCESS PREV_TX PREV_KI_TX  \\\n",
       "0      M   O         CA                N               N       N          N   \n",
       "\n",
       "  MALIG_TRR txkid ABO_DON  ... HOME_STATE_DON ABO_MAT GRF_STAT_KI DWFG_KI  \\\n",
       "0         N     L       O  ...             CA       1           Y       N   \n",
       "\n",
       "  PREV_TX_ANY PX_STAT AGE_GROUP malig LT_ONE_WEEK_DON RECOV_OUT_US  \n",
       "0           N       A         A     N               N            N  \n",
       "\n",
       "[1 rows x 22 columns]"
      ]
     },
     "execution_count": 8,
     "metadata": {},
     "output_type": "execute_result"
    }
   ],
   "source": [
    "# considering everything together\n",
    "take_mode = df.dtypes == \"object\"\n",
    "df.loc[:,take_mode].mode()"
   ]
  },
  {
   "cell_type": "code",
   "execution_count": 9,
   "metadata": {
    "scrolled": true
   },
   "outputs": [
    {
     "data": {
      "text/plain": [
       "NUM_PREV_TX             0.0\n",
       "A1                      2.0\n",
       "A2                     25.0\n",
       "B1                     35.0\n",
       "B2                     50.0\n",
       "DR1                     7.0\n",
       "DR2                    11.0\n",
       "REM_CD                  4.0\n",
       "END_STAT             4010.0\n",
       "INIT_AGE               47.0\n",
       "ethnicity               0.0\n",
       "ethcat                  1.0\n",
       "region                  5.0\n",
       "RB1                    35.0\n",
       "npkid                   0.0\n",
       "AGE_DON                38.0\n",
       "ETHCAT_DON              1.0\n",
       "END_STAT_KI          4010.0\n",
       "age                    49.0\n",
       "GTIME_KI             1696.0\n",
       "GSTATUS_KI              0.0\n",
       "DAYSWAIT_CHRON_KI     378.0\n",
       "TX_PROCEDUR_TY_KI     101.0\n",
       "SHARE_TY                3.0\n",
       "pstatus                 0.0\n",
       "ptime                2041.0\n",
       "year                 2007.0\n",
       "month                   7.0\n",
       "dtype: float64"
      ]
     },
     "execution_count": 9,
     "metadata": {},
     "output_type": "execute_result"
    }
   ],
   "source": [
    "df.loc[:,~take_mode].median()"
   ]
  },
  {
   "cell_type": "code",
   "execution_count": 10,
   "metadata": {},
   "outputs": [],
   "source": [
    "df['groups'] = pd.qcut(df['DAYSWAIT_CHRON_KI'], [0,.2,.8,1],labels=['fast','medium','slow'])\n",
    "take_mode = df.dtypes == \"object\" # we've got an extra column now"
   ]
  },
  {
   "cell_type": "code",
   "execution_count": 11,
   "metadata": {
    "scrolled": false
   },
   "outputs": [
    {
     "data": {
      "text/html": [
       "<div>\n",
       "<style scoped>\n",
       "    .dataframe tbody tr th:only-of-type {\n",
       "        vertical-align: middle;\n",
       "    }\n",
       "\n",
       "    .dataframe tbody tr th {\n",
       "        vertical-align: top;\n",
       "    }\n",
       "\n",
       "    .dataframe thead th {\n",
       "        text-align: right;\n",
       "    }\n",
       "</style>\n",
       "<table border=\"1\" class=\"dataframe\">\n",
       "  <thead>\n",
       "    <tr style=\"text-align: right;\">\n",
       "      <th></th>\n",
       "      <th></th>\n",
       "      <th>gender</th>\n",
       "      <th>abo</th>\n",
       "      <th>PERM_STATE</th>\n",
       "      <th>EXH_PERIT_ACCESS</th>\n",
       "      <th>EXH_VASC_ACCESS</th>\n",
       "      <th>PREV_TX</th>\n",
       "      <th>PREV_KI_TX</th>\n",
       "      <th>MALIG_TRR</th>\n",
       "      <th>txkid</th>\n",
       "      <th>ABO_DON</th>\n",
       "      <th>...</th>\n",
       "      <th>HOME_STATE_DON</th>\n",
       "      <th>ABO_MAT</th>\n",
       "      <th>GRF_STAT_KI</th>\n",
       "      <th>DWFG_KI</th>\n",
       "      <th>PREV_TX_ANY</th>\n",
       "      <th>PX_STAT</th>\n",
       "      <th>AGE_GROUP</th>\n",
       "      <th>malig</th>\n",
       "      <th>LT_ONE_WEEK_DON</th>\n",
       "      <th>RECOV_OUT_US</th>\n",
       "    </tr>\n",
       "    <tr>\n",
       "      <th>groups</th>\n",
       "      <th></th>\n",
       "      <th></th>\n",
       "      <th></th>\n",
       "      <th></th>\n",
       "      <th></th>\n",
       "      <th></th>\n",
       "      <th></th>\n",
       "      <th></th>\n",
       "      <th></th>\n",
       "      <th></th>\n",
       "      <th></th>\n",
       "      <th></th>\n",
       "      <th></th>\n",
       "      <th></th>\n",
       "      <th></th>\n",
       "      <th></th>\n",
       "      <th></th>\n",
       "      <th></th>\n",
       "      <th></th>\n",
       "      <th></th>\n",
       "      <th></th>\n",
       "      <th></th>\n",
       "    </tr>\n",
       "  </thead>\n",
       "  <tbody>\n",
       "    <tr>\n",
       "      <th>fast</th>\n",
       "      <th>0</th>\n",
       "      <td>M</td>\n",
       "      <td>A</td>\n",
       "      <td>CA</td>\n",
       "      <td>N</td>\n",
       "      <td>N</td>\n",
       "      <td>N</td>\n",
       "      <td>N</td>\n",
       "      <td>N</td>\n",
       "      <td>L</td>\n",
       "      <td>O</td>\n",
       "      <td>...</td>\n",
       "      <td>TX</td>\n",
       "      <td>1</td>\n",
       "      <td>Y</td>\n",
       "      <td>N</td>\n",
       "      <td>N</td>\n",
       "      <td>A</td>\n",
       "      <td>A</td>\n",
       "      <td>N</td>\n",
       "      <td>N</td>\n",
       "      <td>N</td>\n",
       "    </tr>\n",
       "    <tr>\n",
       "      <th>medium</th>\n",
       "      <th>0</th>\n",
       "      <td>M</td>\n",
       "      <td>O</td>\n",
       "      <td>CA</td>\n",
       "      <td>N</td>\n",
       "      <td>N</td>\n",
       "      <td>N</td>\n",
       "      <td>N</td>\n",
       "      <td>N</td>\n",
       "      <td>L</td>\n",
       "      <td>O</td>\n",
       "      <td>...</td>\n",
       "      <td>CA</td>\n",
       "      <td>1</td>\n",
       "      <td>Y</td>\n",
       "      <td>N</td>\n",
       "      <td>N</td>\n",
       "      <td>A</td>\n",
       "      <td>A</td>\n",
       "      <td>N</td>\n",
       "      <td>N</td>\n",
       "      <td>N</td>\n",
       "    </tr>\n",
       "    <tr>\n",
       "      <th>slow</th>\n",
       "      <th>0</th>\n",
       "      <td>M</td>\n",
       "      <td>O</td>\n",
       "      <td>CA</td>\n",
       "      <td>N</td>\n",
       "      <td>N</td>\n",
       "      <td>N</td>\n",
       "      <td>N</td>\n",
       "      <td>N</td>\n",
       "      <td>L</td>\n",
       "      <td>O</td>\n",
       "      <td>...</td>\n",
       "      <td>CA</td>\n",
       "      <td>1</td>\n",
       "      <td>Y</td>\n",
       "      <td>N</td>\n",
       "      <td>N</td>\n",
       "      <td>A</td>\n",
       "      <td>A</td>\n",
       "      <td>N</td>\n",
       "      <td>N</td>\n",
       "      <td>N</td>\n",
       "    </tr>\n",
       "  </tbody>\n",
       "</table>\n",
       "<p>3 rows × 22 columns</p>\n",
       "</div>"
      ],
      "text/plain": [
       "         gender abo PERM_STATE EXH_PERIT_ACCESS EXH_VASC_ACCESS PREV_TX  \\\n",
       "groups                                                                    \n",
       "fast   0      M   A         CA                N               N       N   \n",
       "medium 0      M   O         CA                N               N       N   \n",
       "slow   0      M   O         CA                N               N       N   \n",
       "\n",
       "         PREV_KI_TX MALIG_TRR txkid ABO_DON  ... HOME_STATE_DON ABO_MAT  \\\n",
       "groups                                       ...                          \n",
       "fast   0          N         N     L       O  ...             TX       1   \n",
       "medium 0          N         N     L       O  ...             CA       1   \n",
       "slow   0          N         N     L       O  ...             CA       1   \n",
       "\n",
       "         GRF_STAT_KI DWFG_KI PREV_TX_ANY PX_STAT AGE_GROUP malig  \\\n",
       "groups                                                             \n",
       "fast   0           Y       N           N       A         A     N   \n",
       "medium 0           Y       N           N       A         A     N   \n",
       "slow   0           Y       N           N       A         A     N   \n",
       "\n",
       "         LT_ONE_WEEK_DON RECOV_OUT_US  \n",
       "groups                                 \n",
       "fast   0               N            N  \n",
       "medium 0               N            N  \n",
       "slow   0               N            N  \n",
       "\n",
       "[3 rows x 22 columns]"
      ]
     },
     "execution_count": 11,
     "metadata": {},
     "output_type": "execute_result"
    }
   ],
   "source": [
    "df.groupby('groups').apply(lambda x: x.mode()).loc[:,take_mode]"
   ]
  },
  {
   "cell_type": "code",
   "execution_count": 12,
   "metadata": {},
   "outputs": [],
   "source": [
    "ave_person_1 = df.groupby('groups').apply(lambda x: x.mode()).loc[:,take_mode]"
   ]
  },
  {
   "cell_type": "code",
   "execution_count": 13,
   "metadata": {},
   "outputs": [],
   "source": [
    "data_ave_1 = ave_person_1.to_excel(r'C:\\Users\\jordan79\\Desktop\\ave_person_1.xlsx', index= None, header=True)\n",
    "\n"
   ]
  },
  {
   "cell_type": "code",
   "execution_count": 13,
   "metadata": {},
   "outputs": [
    {
     "data": {
      "text/plain": [
       "gender              1\n",
       "abo                 2\n",
       "PERM_STATE          1\n",
       "EXH_PERIT_ACCESS    1\n",
       "EXH_VASC_ACCESS     1\n",
       "PREV_TX             1\n",
       "PREV_KI_TX          1\n",
       "MALIG_TRR           1\n",
       "txkid               1\n",
       "ABO_DON             1\n",
       "DON_TY              1\n",
       "GENDER_DON          1\n",
       "HOME_STATE_DON      2\n",
       "ABO_MAT             1\n",
       "GRF_STAT_KI         1\n",
       "DWFG_KI             1\n",
       "PREV_TX_ANY         1\n",
       "PX_STAT             1\n",
       "AGE_GROUP           1\n",
       "malig               1\n",
       "LT_ONE_WEEK_DON     1\n",
       "RECOV_OUT_US        1\n",
       "dtype: int64"
      ]
     },
     "execution_count": 13,
     "metadata": {},
     "output_type": "execute_result"
    }
   ],
   "source": [
    "df.groupby('groups').apply(lambda x: x.mode()).loc[:,take_mode].nunique()\n",
    "# Not super promising"
   ]
  },
  {
   "cell_type": "code",
   "execution_count": 14,
   "metadata": {},
   "outputs": [
    {
     "data": {
      "text/html": [
       "<div>\n",
       "<style scoped>\n",
       "    .dataframe tbody tr th:only-of-type {\n",
       "        vertical-align: middle;\n",
       "    }\n",
       "\n",
       "    .dataframe tbody tr th {\n",
       "        vertical-align: top;\n",
       "    }\n",
       "\n",
       "    .dataframe thead th {\n",
       "        text-align: right;\n",
       "    }\n",
       "</style>\n",
       "<table border=\"1\" class=\"dataframe\">\n",
       "  <thead>\n",
       "    <tr style=\"text-align: right;\">\n",
       "      <th></th>\n",
       "      <th>NUM_PREV_TX</th>\n",
       "      <th>A1</th>\n",
       "      <th>A2</th>\n",
       "      <th>B1</th>\n",
       "      <th>B2</th>\n",
       "      <th>DR1</th>\n",
       "      <th>DR2</th>\n",
       "      <th>REM_CD</th>\n",
       "      <th>END_STAT</th>\n",
       "      <th>INIT_AGE</th>\n",
       "      <th>...</th>\n",
       "      <th>age</th>\n",
       "      <th>GTIME_KI</th>\n",
       "      <th>GSTATUS_KI</th>\n",
       "      <th>DAYSWAIT_CHRON_KI</th>\n",
       "      <th>TX_PROCEDUR_TY_KI</th>\n",
       "      <th>SHARE_TY</th>\n",
       "      <th>pstatus</th>\n",
       "      <th>ptime</th>\n",
       "      <th>year</th>\n",
       "      <th>month</th>\n",
       "    </tr>\n",
       "    <tr>\n",
       "      <th>groups</th>\n",
       "      <th></th>\n",
       "      <th></th>\n",
       "      <th></th>\n",
       "      <th></th>\n",
       "      <th></th>\n",
       "      <th></th>\n",
       "      <th></th>\n",
       "      <th></th>\n",
       "      <th></th>\n",
       "      <th></th>\n",
       "      <th></th>\n",
       "      <th></th>\n",
       "      <th></th>\n",
       "      <th></th>\n",
       "      <th></th>\n",
       "      <th></th>\n",
       "      <th></th>\n",
       "      <th></th>\n",
       "      <th></th>\n",
       "      <th></th>\n",
       "      <th></th>\n",
       "    </tr>\n",
       "  </thead>\n",
       "  <tbody>\n",
       "    <tr>\n",
       "      <th>fast</th>\n",
       "      <td>0.0</td>\n",
       "      <td>2.0</td>\n",
       "      <td>24.0</td>\n",
       "      <td>27.0</td>\n",
       "      <td>49.0</td>\n",
       "      <td>4.0</td>\n",
       "      <td>11.0</td>\n",
       "      <td>4.0</td>\n",
       "      <td>4010.0</td>\n",
       "      <td>47.0</td>\n",
       "      <td>...</td>\n",
       "      <td>48.0</td>\n",
       "      <td>1643.0</td>\n",
       "      <td>0.0</td>\n",
       "      <td>45.0</td>\n",
       "      <td>101.0</td>\n",
       "      <td>3.0</td>\n",
       "      <td>0.0</td>\n",
       "      <td>2031.0</td>\n",
       "      <td>2006.0</td>\n",
       "      <td>7.0</td>\n",
       "    </tr>\n",
       "    <tr>\n",
       "      <th>medium</th>\n",
       "      <td>0.0</td>\n",
       "      <td>2.0</td>\n",
       "      <td>24.0</td>\n",
       "      <td>35.0</td>\n",
       "      <td>50.0</td>\n",
       "      <td>7.0</td>\n",
       "      <td>11.0</td>\n",
       "      <td>4.0</td>\n",
       "      <td>4010.0</td>\n",
       "      <td>48.0</td>\n",
       "      <td>...</td>\n",
       "      <td>49.0</td>\n",
       "      <td>1802.0</td>\n",
       "      <td>0.0</td>\n",
       "      <td>379.0</td>\n",
       "      <td>101.0</td>\n",
       "      <td>3.0</td>\n",
       "      <td>0.0</td>\n",
       "      <td>2177.0</td>\n",
       "      <td>2006.0</td>\n",
       "      <td>7.0</td>\n",
       "    </tr>\n",
       "    <tr>\n",
       "      <th>slow</th>\n",
       "      <td>0.0</td>\n",
       "      <td>2.0</td>\n",
       "      <td>28.0</td>\n",
       "      <td>35.0</td>\n",
       "      <td>51.0</td>\n",
       "      <td>7.0</td>\n",
       "      <td>12.0</td>\n",
       "      <td>4.0</td>\n",
       "      <td>4010.0</td>\n",
       "      <td>47.0</td>\n",
       "      <td>...</td>\n",
       "      <td>52.0</td>\n",
       "      <td>1443.0</td>\n",
       "      <td>0.0</td>\n",
       "      <td>1525.0</td>\n",
       "      <td>102.0</td>\n",
       "      <td>3.0</td>\n",
       "      <td>0.0</td>\n",
       "      <td>1677.0</td>\n",
       "      <td>2010.0</td>\n",
       "      <td>7.0</td>\n",
       "    </tr>\n",
       "  </tbody>\n",
       "</table>\n",
       "<p>3 rows × 28 columns</p>\n",
       "</div>"
      ],
      "text/plain": [
       "        NUM_PREV_TX   A1    A2    B1    B2  DR1   DR2  REM_CD  END_STAT  \\\n",
       "groups                                                                    \n",
       "fast            0.0  2.0  24.0  27.0  49.0  4.0  11.0     4.0    4010.0   \n",
       "medium          0.0  2.0  24.0  35.0  50.0  7.0  11.0     4.0    4010.0   \n",
       "slow            0.0  2.0  28.0  35.0  51.0  7.0  12.0     4.0    4010.0   \n",
       "\n",
       "        INIT_AGE  ...   age  GTIME_KI  GSTATUS_KI  DAYSWAIT_CHRON_KI  \\\n",
       "groups            ...                                                  \n",
       "fast        47.0  ...  48.0    1643.0         0.0               45.0   \n",
       "medium      48.0  ...  49.0    1802.0         0.0              379.0   \n",
       "slow        47.0  ...  52.0    1443.0         0.0             1525.0   \n",
       "\n",
       "        TX_PROCEDUR_TY_KI  SHARE_TY  pstatus   ptime    year  month  \n",
       "groups                                                               \n",
       "fast                101.0       3.0      0.0  2031.0  2006.0    7.0  \n",
       "medium              101.0       3.0      0.0  2177.0  2006.0    7.0  \n",
       "slow                102.0       3.0      0.0  1677.0  2010.0    7.0  \n",
       "\n",
       "[3 rows x 28 columns]"
      ]
     },
     "execution_count": 14,
     "metadata": {},
     "output_type": "execute_result"
    }
   ],
   "source": [
    "df.groupby('groups').apply(lambda x: x.median()).loc[:,~take_mode]"
   ]
  },
  {
   "cell_type": "code",
   "execution_count": 15,
   "metadata": {},
   "outputs": [
    {
     "data": {
      "text/plain": [
       "NUM_PREV_TX          1\n",
       "A1                   1\n",
       "A2                   2\n",
       "B1                   2\n",
       "B2                   3\n",
       "DR1                  2\n",
       "DR2                  2\n",
       "REM_CD               1\n",
       "END_STAT             1\n",
       "INIT_AGE             2\n",
       "ethnicity            1\n",
       "ethcat               2\n",
       "region               1\n",
       "RB1                  1\n",
       "npkid                1\n",
       "AGE_DON              3\n",
       "ETHCAT_DON           1\n",
       "END_STAT_KI          1\n",
       "age                  3\n",
       "GTIME_KI             3\n",
       "GSTATUS_KI           1\n",
       "DAYSWAIT_CHRON_KI    3\n",
       "TX_PROCEDUR_TY_KI    2\n",
       "SHARE_TY             1\n",
       "pstatus              1\n",
       "ptime                3\n",
       "year                 2\n",
       "month                1\n",
       "dtype: int64"
      ]
     },
     "execution_count": 15,
     "metadata": {},
     "output_type": "execute_result"
    }
   ],
   "source": [
    "df.groupby('groups').apply(lambda x: x.median()).loc[:,~take_mode].nunique()\n",
    "# doesn't look supe rdifferent to me..."
   ]
  },
  {
   "cell_type": "code",
   "execution_count": 17,
   "metadata": {},
   "outputs": [],
   "source": [
    "\n",
    "ave_person_2 = df.groupby('groups').apply(lambda x: x.median()).loc[:,~take_mode]\n",
    "\n",
    "data_ave_2 = ave_person_2.to_excel(r'C:\\Users\\jordan79\\Desktop\\ave_person_2.xlsx', index= None, header=True)\n"
   ]
  },
  {
   "cell_type": "code",
   "execution_count": 16,
   "metadata": {},
   "outputs": [],
   "source": [
    "dum_ave_3  = pd.get_dummies(ave_person_1)\n",
    "data_ave_3 = dum_ave_3.to_excel(r'C:\\Users\\jordan79\\Desktop\\ave_person_3.xlsx', index= None, header=True)"
   ]
  },
  {
   "cell_type": "markdown",
   "metadata": {
    "colab_type": "text",
    "id": "Amo8PatZ5hXV"
   },
   "source": [
    "### Making dummy variables"
   ]
  },
  {
   "cell_type": "markdown",
   "metadata": {
    "colab_type": "text",
    "id": "kFM-SYvS5hXW"
   },
   "source": [
    "- gender\n",
    "- abo{9}\n",
    "- EXH_PERIT_ACCCESS{3}\n",
    "- EXH_VASC_ACCESS{3}\n",
    "- PREV_TX{2}\n",
    "- PREV_KI_TX{2}\n",
    "- MALIG_TRR{3}\n",
    "- PERM_STATE_TRR{51}\n",
    "- txkid{3}\n",
    "- ABO_DON{9}\n",
    "- DON_TY{3}\n",
    "- GENDER_DON{2}\n",
    "- HOME_STATE_DON{51}\n",
    "- ABO_MAT{3}\n",
    "- GRF_STAT_KI{2}\n",
    "- DWFG_KI{2}\n",
    "- TX_PROCEDUR_TY_KI{[did you get one or two? See data_sheet]}\n",
    "- PRV_TX_ANY{2}\n",
    "- PX_STAT{4}\n",
    "- SHARE_TY{4}\n",
    "- AGE_GROUP{2}\n",
    "- malig{3} (previous malignancies)\n",
    "- LT_ONE_WEEK_DON {2} (7 days old or less?)\n",
    "- RECOV_OUT_US{2}"
   ]
  },
  {
   "cell_type": "code",
   "execution_count": 16,
   "metadata": {
    "colab": {},
    "colab_type": "code",
    "id": "DmithaAG5hXX"
   },
   "outputs": [],
   "source": [
    "dummy_columns = ['gender', 'abo', 'EXH_PERIT_ACCESS', 'EXH_VASC_ACCESS', 'PREV_TX', 'PREV_KI_TX',\n",
    "                 'MALIG_TRR', 'txkid', 'ABO_DON', 'DON_TY', 'GENDER_DON', 'DON_TY', 'GENDER_DON',\n",
    "                 'HOME_STATE_DON', 'ABO_MAT', 'GRF_STAT_KI', 'DWFG_KI', 'PREV_TX_ANY', 'PX_STAT',\n",
    "                 'SHARE_TY', 'AGE_GROUP', 'malig', 'LT_ONE_WEEK_DON', 'RECOV_OUT_US', 'year', 'month',\n",
    "                 'PERM_STATE']\n",
    "funky_columns = ['TX_PROCEDUR_TY_KI']"
   ]
  },
  {
   "cell_type": "code",
   "execution_count": 17,
   "metadata": {
    "colab": {},
    "colab_type": "code",
    "id": "C8RsdIvT5hXY",
    "outputId": "e4aea997-d4a9-4dba-f3f8-26cac1fb0323"
   },
   "outputs": [],
   "source": [
    "df_non_dummy = df.drop(dummy_columns, axis=1)\n",
    "ave_person\n",
    "#df_non_dummy"
   ]
  },
  {
   "cell_type": "code",
   "execution_count": 18,
   "metadata": {
    "colab": {},
    "colab_type": "code",
    "id": "NgWQo4Lh5hXb",
    "outputId": "4e7e1427-83e5-4332-a9c4-507312c1ddd7"
   },
   "outputs": [],
   "source": [
    "df_dummified = pd.get_dummies(df[dummy_columns])\n"
   ]
  },
  {
   "cell_type": "code",
   "execution_count": 19,
   "metadata": {
    "colab": {
     "base_uri": "https://localhost:8080/",
     "height": 163
    },
    "colab_type": "code",
    "executionInfo": {
     "elapsed": 625,
     "status": "error",
     "timestamp": 1575580383682,
     "user": {
      "displayName": "Cameron Corbridge",
      "photoUrl": "https://lh3.googleusercontent.com/a-/AAuE7mAx7L9XdqrQM2FB2F2WKX85BPsDYjFqszO2yYu5wA=s64",
      "userId": "13811178753930033943"
     },
     "user_tz": 420
    },
    "id": "6thcLCyG5hXd",
    "outputId": "e9fed7c4-90a1-47a9-ff20-460934f7b584",
    "scrolled": true
   },
   "outputs": [],
   "source": [
    "df = df_non_dummy.merge(df_dummified, left_index=True, right_index=True)\n"
   ]
  },
  {
   "cell_type": "code",
   "execution_count": 20,
   "metadata": {
    "colab": {},
    "colab_type": "code",
    "id": "mpu4CZ2G5hXf",
    "outputId": "7a460af6-f2a0-4537-da80-25ffd8b562ee"
   },
   "outputs": [
    {
     "data": {
      "text/plain": [
       "Index(['NUM_PREV_TX', 'A1', 'A2', 'B1', 'B2', 'DR1', 'DR2', 'REM_CD',\n",
       "       'END_STAT', 'INIT_AGE',\n",
       "       ...\n",
       "       'PERM_STATE_TX', 'PERM_STATE_UT', 'PERM_STATE_VA', 'PERM_STATE_VI',\n",
       "       'PERM_STATE_VT', 'PERM_STATE_WA', 'PERM_STATE_WI', 'PERM_STATE_WV',\n",
       "       'PERM_STATE_WY', 'PERM_STATE_ZZ'],\n",
       "      dtype='object', length=222)"
      ]
     },
     "execution_count": 20,
     "metadata": {},
     "output_type": "execute_result"
    }
   ],
   "source": [
    "df.columns"
   ]
  },
  {
   "cell_type": "code",
   "execution_count": 21,
   "metadata": {
    "colab": {},
    "colab_type": "code",
    "id": "d5U7ertg5hXi"
   },
   "outputs": [
    {
     "ename": "ValueError",
     "evalue": "could not convert string to float: 'medium'",
     "output_type": "error",
     "traceback": [
      "\u001b[0;31m---------------------------------------------------------------------------\u001b[0m",
      "\u001b[0;31mValueError\u001b[0m                                Traceback (most recent call last)",
      "\u001b[0;32m<ipython-input-21-af6581875f28>\u001b[0m in \u001b[0;36m<module>\u001b[0;34m\u001b[0m\n\u001b[1;32m      7\u001b[0m \u001b[0;34m\u001b[0m\u001b[0m\n\u001b[1;32m      8\u001b[0m \u001b[0mforest\u001b[0m \u001b[0;34m=\u001b[0m \u001b[0mRandomForestRegressor\u001b[0m\u001b[0;34m(\u001b[0m\u001b[0mn_estimators\u001b[0m\u001b[0;34m=\u001b[0m\u001b[0;36m5\u001b[0m\u001b[0;34m)\u001b[0m\u001b[0;34m\u001b[0m\u001b[0;34m\u001b[0m\u001b[0m\n\u001b[0;32m----> 9\u001b[0;31m \u001b[0mmodel\u001b[0m \u001b[0;34m=\u001b[0m \u001b[0mforest\u001b[0m\u001b[0;34m.\u001b[0m\u001b[0mfit\u001b[0m\u001b[0;34m(\u001b[0m\u001b[0mX_train\u001b[0m\u001b[0;34m,\u001b[0m \u001b[0my_train\u001b[0m\u001b[0;34m)\u001b[0m\u001b[0;34m\u001b[0m\u001b[0;34m\u001b[0m\u001b[0m\n\u001b[0m",
      "\u001b[0;32m~/.local/share/virtualenvs/kidneyproject-JYWpFwRZ/lib/python3.8/site-packages/sklearn/ensemble/_forest.py\u001b[0m in \u001b[0;36mfit\u001b[0;34m(self, X, y, sample_weight)\u001b[0m\n\u001b[1;32m    293\u001b[0m         \"\"\"\n\u001b[1;32m    294\u001b[0m         \u001b[0;31m# Validate or convert input data\u001b[0m\u001b[0;34m\u001b[0m\u001b[0;34m\u001b[0m\u001b[0;34m\u001b[0m\u001b[0m\n\u001b[0;32m--> 295\u001b[0;31m         \u001b[0mX\u001b[0m \u001b[0;34m=\u001b[0m \u001b[0mcheck_array\u001b[0m\u001b[0;34m(\u001b[0m\u001b[0mX\u001b[0m\u001b[0;34m,\u001b[0m \u001b[0maccept_sparse\u001b[0m\u001b[0;34m=\u001b[0m\u001b[0;34m\"csc\"\u001b[0m\u001b[0;34m,\u001b[0m \u001b[0mdtype\u001b[0m\u001b[0;34m=\u001b[0m\u001b[0mDTYPE\u001b[0m\u001b[0;34m)\u001b[0m\u001b[0;34m\u001b[0m\u001b[0;34m\u001b[0m\u001b[0m\n\u001b[0m\u001b[1;32m    296\u001b[0m         \u001b[0my\u001b[0m \u001b[0;34m=\u001b[0m \u001b[0mcheck_array\u001b[0m\u001b[0;34m(\u001b[0m\u001b[0my\u001b[0m\u001b[0;34m,\u001b[0m \u001b[0maccept_sparse\u001b[0m\u001b[0;34m=\u001b[0m\u001b[0;34m'csc'\u001b[0m\u001b[0;34m,\u001b[0m \u001b[0mensure_2d\u001b[0m\u001b[0;34m=\u001b[0m\u001b[0;32mFalse\u001b[0m\u001b[0;34m,\u001b[0m \u001b[0mdtype\u001b[0m\u001b[0;34m=\u001b[0m\u001b[0;32mNone\u001b[0m\u001b[0;34m)\u001b[0m\u001b[0;34m\u001b[0m\u001b[0;34m\u001b[0m\u001b[0m\n\u001b[1;32m    297\u001b[0m         \u001b[0;32mif\u001b[0m \u001b[0msample_weight\u001b[0m \u001b[0;32mis\u001b[0m \u001b[0;32mnot\u001b[0m \u001b[0;32mNone\u001b[0m\u001b[0;34m:\u001b[0m\u001b[0;34m\u001b[0m\u001b[0;34m\u001b[0m\u001b[0m\n",
      "\u001b[0;32m~/.local/share/virtualenvs/kidneyproject-JYWpFwRZ/lib/python3.8/site-packages/sklearn/utils/validation.py\u001b[0m in \u001b[0;36mcheck_array\u001b[0;34m(array, accept_sparse, accept_large_sparse, dtype, order, copy, force_all_finite, ensure_2d, allow_nd, ensure_min_samples, ensure_min_features, warn_on_dtype, estimator)\u001b[0m\n\u001b[1;32m    513\u001b[0m                     \u001b[0marray\u001b[0m \u001b[0;34m=\u001b[0m \u001b[0marray\u001b[0m\u001b[0;34m.\u001b[0m\u001b[0mastype\u001b[0m\u001b[0;34m(\u001b[0m\u001b[0mdtype\u001b[0m\u001b[0;34m,\u001b[0m \u001b[0mcasting\u001b[0m\u001b[0;34m=\u001b[0m\u001b[0;34m\"unsafe\"\u001b[0m\u001b[0;34m,\u001b[0m \u001b[0mcopy\u001b[0m\u001b[0;34m=\u001b[0m\u001b[0;32mFalse\u001b[0m\u001b[0;34m)\u001b[0m\u001b[0;34m\u001b[0m\u001b[0;34m\u001b[0m\u001b[0m\n\u001b[1;32m    514\u001b[0m                 \u001b[0;32melse\u001b[0m\u001b[0;34m:\u001b[0m\u001b[0;34m\u001b[0m\u001b[0;34m\u001b[0m\u001b[0m\n\u001b[0;32m--> 515\u001b[0;31m                     \u001b[0marray\u001b[0m \u001b[0;34m=\u001b[0m \u001b[0mnp\u001b[0m\u001b[0;34m.\u001b[0m\u001b[0masarray\u001b[0m\u001b[0;34m(\u001b[0m\u001b[0marray\u001b[0m\u001b[0;34m,\u001b[0m \u001b[0morder\u001b[0m\u001b[0;34m=\u001b[0m\u001b[0morder\u001b[0m\u001b[0;34m,\u001b[0m \u001b[0mdtype\u001b[0m\u001b[0;34m=\u001b[0m\u001b[0mdtype\u001b[0m\u001b[0;34m)\u001b[0m\u001b[0;34m\u001b[0m\u001b[0;34m\u001b[0m\u001b[0m\n\u001b[0m\u001b[1;32m    516\u001b[0m             \u001b[0;32mexcept\u001b[0m \u001b[0mComplexWarning\u001b[0m\u001b[0;34m:\u001b[0m\u001b[0;34m\u001b[0m\u001b[0;34m\u001b[0m\u001b[0m\n\u001b[1;32m    517\u001b[0m                 raise ValueError(\"Complex data not supported\\n\"\n",
      "\u001b[0;32m~/.local/share/virtualenvs/kidneyproject-JYWpFwRZ/lib/python3.8/site-packages/numpy/core/_asarray.py\u001b[0m in \u001b[0;36masarray\u001b[0;34m(a, dtype, order)\u001b[0m\n\u001b[1;32m     83\u001b[0m \u001b[0;34m\u001b[0m\u001b[0m\n\u001b[1;32m     84\u001b[0m     \"\"\"\n\u001b[0;32m---> 85\u001b[0;31m     \u001b[0;32mreturn\u001b[0m \u001b[0marray\u001b[0m\u001b[0;34m(\u001b[0m\u001b[0ma\u001b[0m\u001b[0;34m,\u001b[0m \u001b[0mdtype\u001b[0m\u001b[0;34m,\u001b[0m \u001b[0mcopy\u001b[0m\u001b[0;34m=\u001b[0m\u001b[0;32mFalse\u001b[0m\u001b[0;34m,\u001b[0m \u001b[0morder\u001b[0m\u001b[0;34m=\u001b[0m\u001b[0morder\u001b[0m\u001b[0;34m)\u001b[0m\u001b[0;34m\u001b[0m\u001b[0;34m\u001b[0m\u001b[0m\n\u001b[0m\u001b[1;32m     86\u001b[0m \u001b[0;34m\u001b[0m\u001b[0m\n\u001b[1;32m     87\u001b[0m \u001b[0;34m\u001b[0m\u001b[0m\n",
      "\u001b[0;31mValueError\u001b[0m: could not convert string to float: 'medium'"
     ]
    }
   ],
   "source": [
    "y_variable = 'DAYSWAIT_CHRON_KI'\n",
    "X_variables = list(df.columns[df.columns != y_variable])\n",
    "X = df[X_variables].to_numpy()\n",
    "y = df[y_variable].to_numpy()\n",
    "\n",
    "X_train, X_test, y_train, y_test = train_test_split(X, y)\n",
    "\n",
    "forest = RandomForestRegressor(n_estimators=5)\n",
    "model = forest.fit(X_train, y_train)"
   ]
  },
  {
   "cell_type": "code",
   "execution_count": null,
   "metadata": {
    "colab": {},
    "colab_type": "code",
    "id": "ycA2j5v45hXj",
    "outputId": "5fe24762-8a48-43ac-a035-8091607c280f",
    "scrolled": false
   },
   "outputs": [],
   "source": [
    "model.score(X_test,y_test)"
   ]
  },
  {
   "cell_type": "code",
   "execution_count": null,
   "metadata": {
    "colab": {},
    "colab_type": "code",
    "id": "54ERWWsm5hXl",
    "outputId": "a720b9ab-4b5e-4eca-85fb-2ce7a5fdcfd3"
   },
   "outputs": [],
   "source": [
    "def plot_feature_importances_(model):\n",
    "    n_features = X_test.shape[1]\n",
    "    plt.barh(np.arange(n_features),model.feature_importances_, align='center')\n",
    "    plt.yticks(np.arange(n_features),df.columns)\n",
    "    plt.xlabel(\"Feature importance\")\n",
    "    plt.ylabel(\"Feature\")\n",
    "    plt.ylim(-1, n_features)\n",
    "\n",
    "plot_feature_importances_(model)"
   ]
  },
  {
   "cell_type": "code",
   "execution_count": null,
   "metadata": {
    "colab": {},
    "colab_type": "code",
    "id": "3Z-bQkJ05hXn",
    "outputId": "b4d30088-bd5a-4513-e8ad-e12e7ddb6c90"
   },
   "outputs": [],
   "source": [
    "num_21 =  X[21,:].copy().reshape(1, -1)\n",
    "num_21.shape\n"
   ]
  },
  {
   "cell_type": "code",
   "execution_count": null,
   "metadata": {
    "colab": {},
    "colab_type": "code",
    "id": "gSO7UvRh5hXo",
    "outputId": "1852a7c8-a10d-4f28-e990-6847ffdaa956",
    "scrolled": false
   },
   "outputs": [],
   "source": [
    "num_21  = pd.DataFrame(num_21, columns = df[X_variables].columns)\n",
    "num_21"
   ]
  },
  {
   "cell_type": "code",
   "execution_count": null,
   "metadata": {
    "colab": {},
    "colab_type": "code",
    "id": "4H98msLC5hXq"
   },
   "outputs": [],
   "source": []
  },
  {
   "cell_type": "code",
   "execution_count": null,
   "metadata": {
    "colab": {},
    "colab_type": "code",
    "id": "zly5wfBx5hXr",
    "outputId": "22e84ecf-0afd-4664-9445-d8b6bed575ed",
    "scrolled": true
   },
   "outputs": [],
   "source": [
    "num_21.iloc[0,221]"
   ]
  },
  {
   "cell_type": "code",
   "execution_count": null,
   "metadata": {
    "colab": {},
    "colab_type": "code",
    "id": "6CbEkz3R5hXu",
    "outputId": "88d85b37-2b6f-410c-c07f-a66ae691d42e"
   },
   "outputs": [],
   "source": [
    "num_21_different_state = copy.deepcopy(num_21)\n",
    "num_21_different_state"
   ]
  },
  {
   "cell_type": "code",
   "execution_count": null,
   "metadata": {
    "colab": {},
    "colab_type": "code",
    "id": "KfuzERsr5hXy",
    "outputId": "7ec3ffc2-4c45-4e3b-962c-5f33aafdbd0b"
   },
   "outputs": [],
   "source": [
    "\n",
    "num_21_different_state.iloc[0,220]=0\n",
    "num_21_different_state.iloc[0,180]=1\n",
    "num_21_different_state"
   ]
  },
  {
   "cell_type": "code",
   "execution_count": null,
   "metadata": {
    "colab": {},
    "colab_type": "code",
    "id": "8MUOR1gU5hX0",
    "outputId": "86a55d90-9559-453e-c023-acfd896a13b9"
   },
   "outputs": [],
   "source": [
    "num_21\n"
   ]
  },
  {
   "cell_type": "code",
   "execution_count": null,
   "metadata": {
    "colab": {},
    "colab_type": "code",
    "id": "3BdpgFMV5hX2",
    "outputId": "5bca92fc-f289-4906-d278-530e688bb3ad"
   },
   "outputs": [],
   "source": [
    "num_21_different_state\n"
   ]
  },
  {
   "cell_type": "code",
   "execution_count": null,
   "metadata": {
    "colab": {},
    "colab_type": "code",
    "id": "P3IjaKh_5hX3",
    "scrolled": false
   },
   "outputs": [],
   "source": [
    "num_21 = num_21.to_numpy()\n",
    "num_21_different_state = num_21_different_state.to_numpy()"
   ]
  },
  {
   "cell_type": "code",
   "execution_count": null,
   "metadata": {
    "colab": {},
    "colab_type": "code",
    "id": "GYgEMEOE5hX5",
    "outputId": "e14b1c0e-462b-4453-aee6-b39cf466316b",
    "scrolled": true
   },
   "outputs": [],
   "source": [
    "print(model.predict(num_21))\n",
    "print(model.predict(num_21_different_state))"
   ]
  },
  {
   "cell_type": "code",
   "execution_count": null,
   "metadata": {
    "colab": {},
    "colab_type": "code",
    "id": "cme-Rtw75hX6",
    "outputId": "41a0955e-800b-458b-aa06-7740235bb8f4"
   },
   "outputs": [],
   "source": [
    "df[X_variables].columns"
   ]
  },
  {
   "cell_type": "code",
   "execution_count": null,
   "metadata": {
    "colab": {},
    "colab_type": "code",
    "id": "zway6yUi5hX7",
    "outputId": "98343378-a0c0-49ce-c1b3-53ff30bb0165",
    "scrolled": false
   },
   "outputs": [],
   "source": [
    "\n",
    "#num_21 =  X[21,:172].copy().reshape(1, -1)\n",
    "List = []\n",
    "for i in range(58):\n",
    "    A = np.zeros((58,), dtype=int)\n",
    "    A[i]=1\n",
    "    num_10000 = np.concatenate((X[349885,:172].copy(),A), axis = None).reshape(1,-1)\n",
    "    List.append(model.predict(num_10000))\n",
    "    print(model.predict(num_10000))\n",
    "    "
   ]
  },
  {
   "cell_type": "code",
   "execution_count": null,
   "metadata": {
    "colab": {},
    "colab_type": "code",
    "id": "T-jIGFM95hX-"
   },
   "outputs": [],
   "source": [
    "state_names = ['AK','AL','AR','AS','AZ','CA','CO','CT','DC','DE','FL','GA',\n",
    "               'GU','HI','IA','ID','IL','IN','KS','KY','LA','MA','MD','ME',\n",
    "               'MI','MN','MO','MP','MS','MT','NA','NC','ND','NE','NH','NJ',\n",
    "               'NM','NV','NY','OH','OK','OR','PA','PR','RI','SC','SD','TN',\n",
    "               'TX','UT','VA','VI','VT','WA','WI','WV','WY','ZZ']\n"
   ]
  },
  {
   "cell_type": "code",
   "execution_count": null,
   "metadata": {
    "colab": {},
    "colab_type": "code",
    "id": "D6CsEaAd5hYA",
    "outputId": "3c3a813c-d361-4296-951e-b2d175ab5128",
    "scrolled": true
   },
   "outputs": [],
   "source": [
    "List = np.asarray(List)\n",
    "#List.reshape(-1,1)\n",
    "\n",
    "wl_times = pd.DataFrame()\n",
    "wl_times['state']= state_names\n",
    "wl_times['days']= List\n"
   ]
  },
  {
   "cell_type": "code",
   "execution_count": null,
   "metadata": {
    "colab": {},
    "colab_type": "code",
    "id": "r5xD5KU05hYE",
    "outputId": "5a1fe387-ea74-4153-aa25-eb7633e06ccd",
    "scrolled": true
   },
   "outputs": [],
   "source": [
    "List = np.asarray(List)\n",
    "wl_times['days_4']=List\n",
    "wl_times"
   ]
  },
  {
   "cell_type": "code",
   "execution_count": null,
   "metadata": {
    "colab": {},
    "colab_type": "code",
    "id": "oDjtfKT55hYG",
    "outputId": "9a102320-b359-4c07-a9ae-284fd7f7d994"
   },
   "outputs": [],
   "source": [
    "wl_times.describe()\n"
   ]
  },
  {
   "cell_type": "code",
   "execution_count": null,
   "metadata": {
    "colab": {},
    "colab_type": "code",
    "id": "XKwcRNGa5hYI",
    "outputId": "4ca9137b-deb1-4c1f-bacc-518942bc3e82"
   },
   "outputs": [],
   "source": [
    "num_10000 = np.concatenate((X[10000,:179].copy(),np.zeros(51)), axis = None).reshape(1,-1)\n",
    "num_10000.shape"
   ]
  },
  {
   "cell_type": "code",
   "execution_count": null,
   "metadata": {
    "colab": {},
    "colab_type": "code",
    "id": "7RPmLhEw5hYK",
    "outputId": "bd72da62-5003-41ff-9a11-56f9f8216a6d"
   },
   "outputs": [],
   "source": [
    "num_10000  = pd.DataFrame(num_10000, columns = df[X_variables].columns)\n",
    "num_10000\n"
   ]
  },
  {
   "cell_type": "code",
   "execution_count": null,
   "metadata": {},
   "outputs": [],
   "source": []
  },
  {
   "cell_type": "code",
   "execution_count": null,
   "metadata": {},
   "outputs": [],
   "source": []
  }
 ],
 "metadata": {
  "colab": {
   "name": "econ_484_project.ipynb",
   "provenance": []
  },
  "kernelspec": {
   "display_name": "Python 3",
   "language": "python",
   "name": "python3"
  },
  "language_info": {
   "codemirror_mode": {
    "name": "ipython",
    "version": 3
   },
   "file_extension": ".py",
   "mimetype": "text/x-python",
   "name": "python",
   "nbconvert_exporter": "python",
   "pygments_lexer": "ipython3",
   "version": "3.7.3"
  }
 },
 "nbformat": 4,
 "nbformat_minor": 1
}
